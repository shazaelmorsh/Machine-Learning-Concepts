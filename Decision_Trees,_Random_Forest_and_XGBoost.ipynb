{
  "nbformat": 4,
  "nbformat_minor": 0,
  "metadata": {
    "colab": {
      "provenance": [],
      "collapsed_sections": [
        "OrQExmLkVyil",
        "GwWDROTbz0DS"
      ],
      "authorship_tag": "ABX9TyPDHE73xoyBVzMkbRVMcCHH",
      "include_colab_link": true
    },
    "kernelspec": {
      "name": "python3",
      "display_name": "Python 3"
    },
    "language_info": {
      "name": "python"
    }
  },
  "cells": [
    {
      "cell_type": "markdown",
      "metadata": {
        "id": "view-in-github",
        "colab_type": "text"
      },
      "source": [
        "<a href=\"https://colab.research.google.com/github/shazaelmorsh/Machine-Learning-Concepts/blob/main/Decision_Trees%2C_Random_Forest_and_XGBoost.ipynb\" target=\"_parent\"><img src=\"https://colab.research.google.com/assets/colab-badge.svg\" alt=\"Open In Colab\"/></a>"
      ]
    },
    {
      "cell_type": "markdown",
      "source": [
        "# Decision Trees"
      ],
      "metadata": {
        "id": "OrQExmLkVyil"
      }
    },
    {
      "cell_type": "markdown",
      "source": [
        "## Decision Trees : Understanding"
      ],
      "metadata": {
        "id": "GwWDROTbz0DS"
      }
    },
    {
      "cell_type": "markdown",
      "source": [
        "In a decision tree, we decide if a node will be split or not by looking at the **information gain** that split would give us.\n",
        "\n",
        "On each node, we compute the information gain for each feature, then split the node on the feature with the higher information gain, by comparing the entropy of the node with the weighted entropy in the two splitted nodes\n",
        "Where\n",
        "\n",
        "$$\\text{Information Gain} = H(p_1^\\text{node})- \\left(w^{\\text{left}}H\\left(p_1^\\text{left}\\right) + w^{\\text{right}}H\\left(p_1^\\text{right}\\right)\\right),$$\n",
        "\n",
        "and $H$ is the entropy, defined as\n",
        "\n",
        "$$H(p_1) = -p_1 \\text{log}_2(p_1) - (1- p_1) \\text{log}_2(1- p_1)$$\n",
        "\n",
        "- $w^{\\text{left}}$ and $w^{\\text{right}}$, the proportion of animals in **each node**.\n",
        "- $p^{\\text{left}}$ and $p^{\\text{right}}$, the proportion of cats in **each split**."
      ],
      "metadata": {
        "id": "VnqOuR3yV1cU"
      }
    },
    {
      "cell_type": "code",
      "execution_count": 23,
      "metadata": {
        "id": "QNOFwbV0N56P"
      },
      "outputs": [],
      "source": [
        "#Imports\n",
        "import pandas as pd\n",
        "import numpy as np\n",
        "import matplotlib.pyplot as plt"
      ]
    },
    {
      "cell_type": "code",
      "source": [
        "#we will use one hot encoding to encode the categorical features\n",
        "# x values : [ear (pointy = 1, floppy =0) , face (round =1 , not round =1), whiskers (present =1, absent=1) ]\n",
        "# y values : 1 cat, 0 not cat\n",
        "\n",
        "#creating dataset\n",
        "x_train = np.array([\n",
        "    [1, 1, 1],\n",
        "    [0, 0, 1],\n",
        "    [0, 1, 0],\n",
        "    [1, 0, 1],\n",
        "    [1, 1, 1],\n",
        "    [1, 1, 0],\n",
        "    [0, 0, 0],\n",
        "    [1, 1, 0],\n",
        "    [0, 1, 0],\n",
        "    [0, 1, 0]\n",
        "                  ])\n",
        "y_train = np.array([1, 1, 0, 0, 1, 1, 0, 1, 0, 0])"
      ],
      "metadata": {
        "id": "SN7v9ZxWXJkN"
      },
      "execution_count": 24,
      "outputs": []
    },
    {
      "cell_type": "code",
      "source": [
        "def entropy(p):\n",
        "  if p == 0 or p ==1:\n",
        "    return 0\n",
        "  else:\n",
        "    return -p*np.log2(p) - (1 - p)*np.log2(1 - p)\n",
        "\n",
        "print(entropy(0.5))"
      ],
      "metadata": {
        "colab": {
          "base_uri": "https://localhost:8080/"
        },
        "id": "yw3-YUX6YY--",
        "outputId": "9caf9d30-e778-4389-b205-b9fdb14a9b99"
      },
      "execution_count": 25,
      "outputs": [
        {
          "output_type": "stream",
          "name": "stdout",
          "text": [
            "1.0\n"
          ]
        }
      ]
    },
    {
      "cell_type": "code",
      "source": [
        "#this fuction extract the indices of the training set where the features exists in the left and right tree\n",
        "def split_indices(X, index_feature):\n",
        "  left = []\n",
        "  right =[]\n",
        "  for i in range(X.shape[0]):\n",
        "    if X[i][index_feature] == 1:\n",
        "      left.append(i)\n",
        "    else:\n",
        "      right.append(i)\n",
        "  return left, right\n",
        "\n",
        "def weighted_entropy(x,y,l,r):\n",
        "  w_left = len(l)/len(x)\n",
        "  w_right = len(r)/len(x)\n",
        "  p_left = sum(y[l])/len(l)\n",
        "  p_right = sum(y[r])/len(r)\n",
        "  return w_left*entropy(p_left) + w_right * entropy(p_right)\n",
        "\n",
        "l , r = split_indices(x_train, 0)\n",
        "# weighted_entropy(x_train,y_train,l,r)\n",
        "\n",
        "def information_gain(x,y,l,r):\n",
        "  p = sum(y)/len(y)\n",
        "  h = entropy(p)\n",
        "  w = weighted_entropy(x,y,l,r)\n",
        "  return  h-w\n",
        "information_gain(x_train,y_train,l,r)"
      ],
      "metadata": {
        "colab": {
          "base_uri": "https://localhost:8080/"
        },
        "id": "Lq7MhZ5jfpQ-",
        "outputId": "967d7ed9-2671-436b-ed04-43a4c4159518"
      },
      "execution_count": 26,
      "outputs": [
        {
          "output_type": "execute_result",
          "data": {
            "text/plain": [
              "0.2780719051126377"
            ]
          },
          "metadata": {},
          "execution_count": 26
        }
      ]
    },
    {
      "cell_type": "code",
      "source": [
        "for i in range(0,3):\n",
        "  l , r = split_indices(x_train, i)\n",
        "  i_gain = information_gain(x_train,y_train,l,r)\n",
        "  print(f\"Feature with index {i} the gain will be {i_gain:.2f}\")"
      ],
      "metadata": {
        "colab": {
          "base_uri": "https://localhost:8080/"
        },
        "id": "LLkQ5e99g2VD",
        "outputId": "c29eea9e-5871-4e39-819d-a0d33552694d"
      },
      "execution_count": 27,
      "outputs": [
        {
          "output_type": "stream",
          "name": "stdout",
          "text": [
            "Feature with index 0 the gain will be 0.28\n",
            "Feature with index 1 the gain will be 0.03\n",
            "Feature with index 2 the gain will be 0.12\n"
          ]
        }
      ]
    },
    {
      "cell_type": "markdown",
      "source": [
        "## Using Skilearn"
      ],
      "metadata": {
        "id": "2PL3-EsjqY8w"
      }
    },
    {
      "cell_type": "markdown",
      "source": [
        "###imports"
      ],
      "metadata": {
        "id": "P-h3KaYt4ML7"
      }
    },
    {
      "cell_type": "code",
      "source": [
        "import numpy as np\n",
        "import pandas as pd\n",
        "from sklearn.tree import DecisionTreeClassifier\n",
        "from sklearn.ensemble import RandomForestClassifier\n",
        "from sklearn.model_selection import train_test_split\n",
        "from sklearn.metrics import accuracy_score\n",
        "!pip install xgboost --quiet\n",
        "from xgboost import XGBClassifier\n",
        "import matplotlib.pyplot as plt\n",
        "\n",
        "RANDOM_STATE = 55"
      ],
      "metadata": {
        "id": "MqEjj5suqdXb"
      },
      "execution_count": 28,
      "outputs": []
    },
    {
      "cell_type": "code",
      "source": [
        "df = pd.read_csv(\"heart.csv\")\n",
        "df.head()\n",
        "for column in df.columns:\n",
        "    print(f\"Unique values in column '{column}':\")\n",
        "    print(len(df[column].unique()))\n",
        "    print()"
      ],
      "metadata": {
        "colab": {
          "base_uri": "https://localhost:8080/"
        },
        "id": "Tbr_CWyy0LJq",
        "outputId": "48c41609-58fb-4e5c-a6aa-d8b9451588ab"
      },
      "execution_count": 29,
      "outputs": [
        {
          "output_type": "stream",
          "name": "stdout",
          "text": [
            "Unique values in column 'Age':\n",
            "50\n",
            "\n",
            "Unique values in column 'Sex':\n",
            "2\n",
            "\n",
            "Unique values in column 'ChestPainType':\n",
            "4\n",
            "\n",
            "Unique values in column 'RestingBP':\n",
            "67\n",
            "\n",
            "Unique values in column 'Cholesterol':\n",
            "222\n",
            "\n",
            "Unique values in column 'FastingBS':\n",
            "2\n",
            "\n",
            "Unique values in column 'RestingECG':\n",
            "3\n",
            "\n",
            "Unique values in column 'MaxHR':\n",
            "119\n",
            "\n",
            "Unique values in column 'ExerciseAngina':\n",
            "2\n",
            "\n",
            "Unique values in column 'Oldpeak':\n",
            "53\n",
            "\n",
            "Unique values in column 'ST_Slope':\n",
            "3\n",
            "\n",
            "Unique values in column 'HeartDisease':\n",
            "2\n",
            "\n"
          ]
        }
      ]
    },
    {
      "cell_type": "code",
      "source": [
        "cat_variables = ['Sex',\n",
        "'ChestPainType',\n",
        "'RestingECG',\n",
        "'ExerciseAngina',\n",
        "'ST_Slope'\n",
        "]\n",
        "# adding columns with one hot encoding\n",
        "df_encoded = pd.get_dummies(data = df,\n",
        "                         prefix = cat_variables,\n",
        "                         columns = cat_variables)\n",
        "print(len(df_encoded.columns))\n",
        "#extract all columns except the target\n",
        "var = [x for x in df_encoded.columns if x not in 'HeartDisease'] ## Removing our target variable\n",
        "print(len(var))\n"
      ],
      "metadata": {
        "colab": {
          "base_uri": "https://localhost:8080/"
        },
        "id": "c3vBeh6U0wz1",
        "outputId": "18f1700f-942e-484b-8748-8c0810744ac9"
      },
      "execution_count": 30,
      "outputs": [
        {
          "output_type": "stream",
          "name": "stdout",
          "text": [
            "21\n",
            "20\n"
          ]
        }
      ]
    },
    {
      "cell_type": "markdown",
      "source": [
        "###splitting the data"
      ],
      "metadata": {
        "id": "0ljhHM-R3OVw"
      }
    },
    {
      "cell_type": "code",
      "source": [
        "help(train_test_split)\n"
      ],
      "metadata": {
        "colab": {
          "base_uri": "https://localhost:8080/"
        },
        "id": "qvPOnj3U3P37",
        "outputId": "940cd8bc-63fa-438b-ce39-f6978b5ff100"
      },
      "execution_count": 31,
      "outputs": [
        {
          "output_type": "stream",
          "name": "stdout",
          "text": [
            "Help on function train_test_split in module sklearn.model_selection._split:\n",
            "\n",
            "train_test_split(*arrays, test_size=None, train_size=None, random_state=None, shuffle=True, stratify=None)\n",
            "    Split arrays or matrices into random train and test subsets.\n",
            "    \n",
            "    Quick utility that wraps input validation,\n",
            "    ``next(ShuffleSplit().split(X, y))``, and application to input data\n",
            "    into a single call for splitting (and optionally subsampling) data into a\n",
            "    one-liner.\n",
            "    \n",
            "    Read more in the :ref:`User Guide <cross_validation>`.\n",
            "    \n",
            "    Parameters\n",
            "    ----------\n",
            "    *arrays : sequence of indexables with same length / shape[0]\n",
            "        Allowed inputs are lists, numpy arrays, scipy-sparse\n",
            "        matrices or pandas dataframes.\n",
            "    \n",
            "    test_size : float or int, default=None\n",
            "        If float, should be between 0.0 and 1.0 and represent the proportion\n",
            "        of the dataset to include in the test split. If int, represents the\n",
            "        absolute number of test samples. If None, the value is set to the\n",
            "        complement of the train size. If ``train_size`` is also None, it will\n",
            "        be set to 0.25.\n",
            "    \n",
            "    train_size : float or int, default=None\n",
            "        If float, should be between 0.0 and 1.0 and represent the\n",
            "        proportion of the dataset to include in the train split. If\n",
            "        int, represents the absolute number of train samples. If None,\n",
            "        the value is automatically set to the complement of the test size.\n",
            "    \n",
            "    random_state : int, RandomState instance or None, default=None\n",
            "        Controls the shuffling applied to the data before applying the split.\n",
            "        Pass an int for reproducible output across multiple function calls.\n",
            "        See :term:`Glossary <random_state>`.\n",
            "    \n",
            "    shuffle : bool, default=True\n",
            "        Whether or not to shuffle the data before splitting. If shuffle=False\n",
            "        then stratify must be None.\n",
            "    \n",
            "    stratify : array-like, default=None\n",
            "        If not None, data is split in a stratified fashion, using this as\n",
            "        the class labels.\n",
            "        Read more in the :ref:`User Guide <stratification>`.\n",
            "    \n",
            "    Returns\n",
            "    -------\n",
            "    splitting : list, length=2 * len(arrays)\n",
            "        List containing train-test split of inputs.\n",
            "    \n",
            "        .. versionadded:: 0.16\n",
            "            If the input is sparse, the output will be a\n",
            "            ``scipy.sparse.csr_matrix``. Else, output type is the same as the\n",
            "            input type.\n",
            "    \n",
            "    Examples\n",
            "    --------\n",
            "    >>> import numpy as np\n",
            "    >>> from sklearn.model_selection import train_test_split\n",
            "    >>> X, y = np.arange(10).reshape((5, 2)), range(5)\n",
            "    >>> X\n",
            "    array([[0, 1],\n",
            "           [2, 3],\n",
            "           [4, 5],\n",
            "           [6, 7],\n",
            "           [8, 9]])\n",
            "    >>> list(y)\n",
            "    [0, 1, 2, 3, 4]\n",
            "    \n",
            "    >>> X_train, X_test, y_train, y_test = train_test_split(\n",
            "    ...     X, y, test_size=0.33, random_state=42)\n",
            "    ...\n",
            "    >>> X_train\n",
            "    array([[4, 5],\n",
            "           [0, 1],\n",
            "           [6, 7]])\n",
            "    >>> y_train\n",
            "    [2, 0, 3]\n",
            "    >>> X_test\n",
            "    array([[2, 3],\n",
            "           [8, 9]])\n",
            "    >>> y_test\n",
            "    [1, 4]\n",
            "    \n",
            "    >>> train_test_split(y, shuffle=False)\n",
            "    [[0, 1, 2], [3, 4]]\n",
            "\n"
          ]
        }
      ]
    },
    {
      "cell_type": "code",
      "source": [
        "X_train, X_test, y_train, y_test = train_test_split(df_encoded[var], df_encoded['HeartDisease'], train_size = 0.8, random_state = RANDOM_STATE)\n"
      ],
      "metadata": {
        "id": "PVQPKV_U31aZ"
      },
      "execution_count": 44,
      "outputs": []
    },
    {
      "cell_type": "markdown",
      "source": [
        "###building the model"
      ],
      "metadata": {
        "id": "kNFSC4a_4CxX"
      }
    },
    {
      "cell_type": "code",
      "source": [
        "min_samples_split_list = [2,10, 30, 50, 100, 200, 300, 700] ## If the number is an integer, then it is the actual quantity of samples,\n",
        "max_depth_list = [1,2, 3, 4, 8, 16, 32, 64, None] # None means that there is no depth limit.\n",
        "accuracy_list_train = []\n",
        "accuracy_list_test = []\n",
        "for min_samples_split in min_samples_split_list:\n",
        "    # You can fit the model at the same time you define it, because the fit function returns the fitted estimator.\n",
        "    model = DecisionTreeClassifier(min_samples_split = min_samples_split,\n",
        "                                   random_state = RANDOM_STATE).fit(X_train,y_train)\n",
        "    predictions_train = model.predict(X_train) ## The predicted values for the train dataset\n",
        "    predictions_test = model.predict(X_test) ## The predicted values for the test dataset\n",
        "    accuracy_train = accuracy_score(predictions_train,y_train)\n",
        "    accuracy_test = accuracy_score(predictions_test,y_test)\n",
        "    accuracy_list_train.append(accuracy_train)\n",
        "    accuracy_list_test.append(accuracy_test)\n",
        "\n",
        "plt.title('Train x Test metrics')\n",
        "plt.xlabel('min_samples_split')\n",
        "plt.ylabel('accuracy')\n",
        "plt.xticks(ticks = range(len(min_samples_split_list )),labels=min_samples_split_list)\n",
        "plt.plot(accuracy_list_train)\n",
        "plt.plot(accuracy_list_test)\n",
        "plt.legend(['Train','Test'])"
      ],
      "metadata": {
        "colab": {
          "base_uri": "https://localhost:8080/",
          "height": 489
        },
        "id": "ZWVQcaY84PQI",
        "outputId": "01d1ded0-9fc0-4558-a156-6fd3fba9c1f9"
      },
      "execution_count": 45,
      "outputs": [
        {
          "output_type": "execute_result",
          "data": {
            "text/plain": [
              "<matplotlib.legend.Legend at 0x78d554762c80>"
            ]
          },
          "metadata": {},
          "execution_count": 45
        },
        {
          "output_type": "display_data",
          "data": {
            "text/plain": [
              "<Figure size 640x480 with 1 Axes>"
            ],
            "image/png": "[encoded data removed]"
          },
          "metadata": {}
        }
      ]
    },
    {
      "cell_type": "code",
      "source": [
        "print(f\"{min_samples_split_list[np.argmax(accuracy_list_train) + 1]}\")\n",
        "print(f\"{min_samples_split_list[np.argmax(accuracy_list_test) + 1]}\")\n"
      ],
      "metadata": {
        "colab": {
          "base_uri": "https://localhost:8080/"
        },
        "id": "5KSJ5qRCb9t2",
        "outputId": "3d01f018-8c22-4663-d11b-f5c44b47eeb3"
      },
      "execution_count": 41,
      "outputs": [
        {
          "output_type": "stream",
          "name": "stdout",
          "text": [
            "10\n",
            "50\n"
          ]
        }
      ]
    },
    {
      "cell_type": "code",
      "source": [
        "accuracy_list_train = []\n",
        "accuracy_list_test = []\n",
        "for max_depth in max_depth_list:\n",
        "    # You can fit the model at the same time you define it, because the fit function returns the fitted estimator.\n",
        "    model = DecisionTreeClassifier(max_depth = max_depth,\n",
        "                                   random_state = RANDOM_STATE).fit(X_train,y_train)\n",
        "    predictions_train = model.predict(X_train) ## The predicted values for the train dataset\n",
        "    predictions_test = model.predict(X_test) ## The predicted values for the test dataset\n",
        "    accuracy_train = accuracy_score(predictions_train,y_train)\n",
        "    accuracy_test = accuracy_score(predictions_test,y_test)\n",
        "    accuracy_list_train.append(accuracy_train)\n",
        "    accuracy_list_test.append(accuracy_test)\n",
        "\n",
        "plt.title('Train x Test metrics')\n",
        "plt.xlabel('max_depth')\n",
        "plt.ylabel('accuracy')\n",
        "plt.xticks(ticks = range(len(max_depth_list )),labels=max_depth_list)\n",
        "plt.plot(accuracy_list_train)\n",
        "plt.plot(accuracy_list_test)\n",
        "plt.legend(['Train','Test'])"
      ],
      "metadata": {
        "colab": {
          "base_uri": "https://localhost:8080/",
          "height": 489
        },
        "id": "S9xqJKnEguIL",
        "outputId": "a9993466-24e9-4461-8c20-4148ed8abe95"
      },
      "execution_count": 43,
      "outputs": [
        {
          "output_type": "execute_result",
          "data": {
            "text/plain": [
              "<matplotlib.legend.Legend at 0x78d57c9fefb0>"
            ]
          },
          "metadata": {},
          "execution_count": 43
        },
        {
          "output_type": "display_data",
          "data": {
            "text/plain": [
              "<Figure size 640x480 with 1 Axes>"
            ],
            "image/png": "[encoded data removed]"
          },
          "metadata": {}
        }
      ]
    },
    {
      "cell_type": "code",
      "source": [
        "print(f\"{min_samples_split_list[np.argmax(accuracy_list_train) + 1]}\")\n",
        "print(f\"{min_samples_split_list[np.argmax(accuracy_list_test) + 1]}\")"
      ],
      "metadata": {
        "colab": {
          "base_uri": "https://localhost:8080/"
        },
        "id": "CeMe8VIGhQnr",
        "outputId": "b91ecc0a-5d9d-42cb-c376-a2a64bc377cd"
      },
      "execution_count": 46,
      "outputs": [
        {
          "output_type": "stream",
          "name": "stdout",
          "text": [
            "10\n",
            "50\n"
          ]
        }
      ]
    },
    {
      "cell_type": "code",
      "source": [
        "decision_tree_model = DecisionTreeClassifier(min_samples_split = 50,\n",
        "                                             max_depth = 3,\n",
        "                                             random_state = RANDOM_STATE).fit(X_train,y_train)"
      ],
      "metadata": {
        "id": "SEKn-549b0Vv"
      },
      "execution_count": 48,
      "outputs": []
    },
    {
      "cell_type": "code",
      "source": [
        "print(f\"Metrics train:\\n\\tAccuracy score: {accuracy_score(decision_tree_model.predict(X_train),y_train):.4f}\\nMetrics test:\\n\\tAccuracy score: {accuracy_score(decision_tree_model.predict(X_test),y_test):.4f}\")\n"
      ],
      "metadata": {
        "colab": {
          "base_uri": "https://localhost:8080/"
        },
        "id": "8NJCZXUZhphs",
        "outputId": "677e8cbb-8c14-4f16-b6fd-6ac96d9d1d28"
      },
      "execution_count": 49,
      "outputs": [
        {
          "output_type": "stream",
          "name": "stdout",
          "text": [
            "Metrics train:\n",
            "\tAccuracy score: 0.8583\n",
            "Metrics test:\n",
            "\tAccuracy score: 0.8641\n"
          ]
        }
      ]
    },
    {
      "cell_type": "markdown",
      "source": [
        "#Random Forest"
      ],
      "metadata": {
        "id": "9xcFufL_hrhQ"
      }
    },
    {
      "cell_type": "markdown",
      "source": [
        "the for a Random Forest, you use a subset of the features AND a subset of the training set to train each tree, chosen randomly."
      ],
      "metadata": {
        "id": "bXBsMN1_iK3t"
      }
    },
    {
      "cell_type": "code",
      "source": [
        "min_samples_split_list = [2,10, 30, 50, 100, 200, 300, 700]  ## If the number is an integer, then it is the actual quantity of samples,\n",
        "                                             ## If it is a float, then it is the percentage of the dataset\n",
        "max_depth_list = [2, 4, 8, 16, 32, 64, None]\n",
        "n_estimators_list = [10,50,100,500]\n",
        "\n",
        "accuracy_list_train = []\n",
        "accuracy_list_test = []\n",
        "for n_estimators in n_estimators_list:\n",
        "    # You can fit the model at the same time you define it, because the fit function returns the fitted estimator.\n",
        "    model = RandomForestClassifier(n_estimators = n_estimators,\n",
        "                                   random_state = RANDOM_STATE).fit(X_train,y_train)\n",
        "    predictions_train = model.predict(X_train) ## The predicted values for the train dataset\n",
        "    predictions_test = model.predict(X_test) ## The predicted values for the test dataset\n",
        "    accuracy_train = accuracy_score(predictions_train,y_train)\n",
        "    accuracy_test = accuracy_score(predictions_test,y_test)\n",
        "    accuracy_list_train.append(accuracy_train)\n",
        "    accuracy_list_test.append(accuracy_test)\n",
        "\n",
        "plt.title('Train x Test metrics')\n",
        "plt.xlabel('n_estimators')\n",
        "plt.ylabel('accuracy')\n",
        "plt.xticks(ticks = range(len(n_estimators_list )),labels=n_estimators_list)\n",
        "plt.plot(accuracy_list_train)\n",
        "plt.plot(accuracy_list_test)\n",
        "plt.legend(['Train','Test'])"
      ],
      "metadata": {
        "colab": {
          "base_uri": "https://localhost:8080/",
          "height": 489
        },
        "id": "o9bTT2xdh0pz",
        "outputId": "476c49f2-2af2-4ae0-a665-0be4dc0a0672"
      },
      "execution_count": 51,
      "outputs": [
        {
          "output_type": "execute_result",
          "data": {
            "text/plain": [
              "<matplotlib.legend.Legend at 0x78d55187fb80>"
            ]
          },
          "metadata": {},
          "execution_count": 51
        },
        {
          "output_type": "display_data",
          "data": {
            "text/plain": [
              "<Figure size 640x480 with 1 Axes>"
            ],
            "image/png": "[encoded data removed]"
          },
          "metadata": {}
        }
      ]
    },
    {
      "cell_type": "markdown",
      "source": [
        "#XGBoost"
      ],
      "metadata": {
        "id": "pTcSNq41miT7"
      }
    },
    {
      "cell_type": "markdown",
      "source": [
        "the boosting methods train several trees, but instead of them being uncorrelated to each other\n",
        "\n",
        "One interesting thing about the XGBoost is that it allows, during the fit, to pass a list evaluation datasets of the form (X_val,y_val), where on each iteration, it measures the cost (or evaluation metric) on the evaluation datasets so that once the cost (or metric) stops to descrease for a number of rounds (called early_stopping_rounds), the training will stop. This is how we can automatically control how many estimators is enough, and how we can avoid overfitting due to too many estimators."
      ],
      "metadata": {
        "id": "q9-Yn8_Wm3gf"
      }
    },
    {
      "cell_type": "code",
      "source": [
        "n = int(len(X_train)*0.8) ## Let's use 80% to train and 20% to eval\n",
        "X_train_fit, X_train_eval, y_train_fit, y_train_eval = X_train[:n], X_train[n:], y_train[:n], y_train[n:]\n",
        "xgb_model = XGBClassifier(n_estimators = 500, learning_rate = 0.1,verbosity = 1, random_state = RANDOM_STATE)\n",
        "xgb_model.fit(X_train_fit,y_train_fit, eval_set = [(X_train_eval,y_train_eval)], early_stopping_rounds = 50)"
      ],
      "metadata": {
        "colab": {
          "base_uri": "https://localhost:8080/",
          "height": 1000
        },
        "id": "27e97iGamiFP",
        "outputId": "86583062-20d5-4408-888a-f0f03eaea54b"
      },
      "execution_count": 52,
      "outputs": [
        {
          "output_type": "stream",
          "name": "stdout",
          "text": [
            "[0]\tvalidation_0-logloss:0.63302\n",
            "[1]\tvalidation_0-logloss:0.59554\n"
          ]
        },
        {
          "output_type": "stream",
          "name": "stderr",
          "text": [
            "/usr/local/lib/python3.10/dist-packages/xgboost/sklearn.py:889: UserWarning: `early_stopping_rounds` in `fit` method is deprecated for better compatibility with scikit-learn, use `early_stopping_rounds` in constructor or`set_params` instead.\n",
            "  warnings.warn(\n"
          ]
        },
        {
          "output_type": "stream",
          "name": "stdout",
          "text": [
            "[2]\tvalidation_0-logloss:0.56614\n",
            "[3]\tvalidation_0-logloss:0.54187\n",
            "[4]\tvalidation_0-logloss:0.52349\n",
            "[5]\tvalidation_0-logloss:0.50611\n",
            "[6]\tvalidation_0-logloss:0.49373\n",
            "[7]\tvalidation_0-logloss:0.48366\n",
            "[8]\tvalidation_0-logloss:0.47323\n",
            "[9]\tvalidation_0-logloss:0.46538\n",
            "[10]\tvalidation_0-logloss:0.46000\n",
            "[11]\tvalidation_0-logloss:0.45621\n",
            "[12]\tvalidation_0-logloss:0.45483\n",
            "[13]\tvalidation_0-logloss:0.44975\n",
            "[14]\tvalidation_0-logloss:0.44495\n",
            "[15]\tvalidation_0-logloss:0.44073\n",
            "[16]\tvalidation_0-logloss:0.44078\n",
            "[17]\tvalidation_0-logloss:0.43936\n",
            "[18]\tvalidation_0-logloss:0.44206\n",
            "[19]\tvalidation_0-logloss:0.44536\n",
            "[20]\tvalidation_0-logloss:0.44322\n",
            "[21]\tvalidation_0-logloss:0.44310\n",
            "[22]\tvalidation_0-logloss:0.44419\n",
            "[23]\tvalidation_0-logloss:0.44797\n",
            "[24]\tvalidation_0-logloss:0.44843\n",
            "[25]\tvalidation_0-logloss:0.45337\n",
            "[26]\tvalidation_0-logloss:0.45206\n",
            "[27]\tvalidation_0-logloss:0.45435\n",
            "[28]\tvalidation_0-logloss:0.45316\n",
            "[29]\tvalidation_0-logloss:0.45524\n",
            "[30]\tvalidation_0-logloss:0.45401\n",
            "[31]\tvalidation_0-logloss:0.45349\n",
            "[32]\tvalidation_0-logloss:0.45437\n",
            "[33]\tvalidation_0-logloss:0.45625\n",
            "[34]\tvalidation_0-logloss:0.45458\n",
            "[35]\tvalidation_0-logloss:0.45467\n",
            "[36]\tvalidation_0-logloss:0.45771\n",
            "[37]\tvalidation_0-logloss:0.45972\n",
            "[38]\tvalidation_0-logloss:0.46170\n",
            "[39]\tvalidation_0-logloss:0.46459\n",
            "[40]\tvalidation_0-logloss:0.46673\n",
            "[41]\tvalidation_0-logloss:0.46745\n",
            "[42]\tvalidation_0-logloss:0.46765\n",
            "[43]\tvalidation_0-logloss:0.46790\n",
            "[44]\tvalidation_0-logloss:0.47139\n",
            "[45]\tvalidation_0-logloss:0.47243\n",
            "[46]\tvalidation_0-logloss:0.47138\n",
            "[47]\tvalidation_0-logloss:0.47377\n",
            "[48]\tvalidation_0-logloss:0.47644\n",
            "[49]\tvalidation_0-logloss:0.47711\n",
            "[50]\tvalidation_0-logloss:0.47813\n",
            "[51]\tvalidation_0-logloss:0.47792\n",
            "[52]\tvalidation_0-logloss:0.48056\n",
            "[53]\tvalidation_0-logloss:0.48048\n",
            "[54]\tvalidation_0-logloss:0.48240\n",
            "[55]\tvalidation_0-logloss:0.48509\n",
            "[56]\tvalidation_0-logloss:0.48523\n",
            "[57]\tvalidation_0-logloss:0.48638\n",
            "[58]\tvalidation_0-logloss:0.48457\n",
            "[59]\tvalidation_0-logloss:0.48534\n",
            "[60]\tvalidation_0-logloss:0.48637\n",
            "[61]\tvalidation_0-logloss:0.48847\n",
            "[62]\tvalidation_0-logloss:0.49046\n",
            "[63]\tvalidation_0-logloss:0.49263\n",
            "[64]\tvalidation_0-logloss:0.49466\n",
            "[65]\tvalidation_0-logloss:0.49539\n",
            "[66]\tvalidation_0-logloss:0.49581\n"
          ]
        },
        {
          "output_type": "execute_result",
          "data": {
            "text/plain": [
              "XGBClassifier(base_score=None, booster=None, callbacks=None,\n",
              "              colsample_bylevel=None, colsample_bynode=None,\n",
              "              colsample_bytree=None, device=None, early_stopping_rounds=None,\n",
              "              enable_categorical=False, eval_metric=None, feature_types=None,\n",
              "              gamma=None, grow_policy=None, importance_type=None,\n",
              "              interaction_constraints=None, learning_rate=0.1, max_bin=None,\n",
              "              max_cat_threshold=None, max_cat_to_onehot=None,\n",
              "              max_delta_step=None, max_depth=None, max_leaves=None,\n",
              "              min_child_weight=None, missing=nan, monotone_constraints=None,\n",
              "              multi_strategy=None, n_estimators=500, n_jobs=None,\n",
              "              num_parallel_tree=None, random_state=55, ...)"
            ],
            "text/html": [
              "<style>#sk-container-id-1 {color: black;background-color: white;}#sk-container-id-1 pre{padding: 0;}#sk-container-id-1 div.sk-toggleable {background-color: white;}#sk-container-id-1 label.sk-toggleable__label {cursor: pointer;display: block;width: 100%;margin-bottom: 0;padding: 0.3em;box-sizing: border-box;text-align: center;}#sk-container-id-1 label.sk-toggleable__label-arrow:before {content: \"▸\";float: left;margin-right: 0.25em;color: #696969;}#sk-container-id-1 label.sk-toggleable__label-arrow:hover:before {color: black;}#sk-container-id-1 div.sk-estimator:hover label.sk-toggleable__label-arrow:before {color: black;}#sk-container-id-1 div.sk-toggleable__content {max-height: 0;max-width: 0;overflow: hidden;text-align: left;background-color: #f0f8ff;}#sk-container-id-1 div.sk-toggleable__content pre {margin: 0.2em;color: black;border-radius: 0.25em;background-color: #f0f8ff;}#sk-container-id-1 input.sk-toggleable__control:checked~div.sk-toggleable__content {max-height: 200px;max-width: 100%;overflow: auto;}#sk-container-id-1 input.sk-toggleable__control:checked~label.sk-toggleable__label-arrow:before {content: \"▾\";}#sk-container-id-1 div.sk-estimator input.sk-toggleable__control:checked~label.sk-toggleable__label {background-color: #d4ebff;}#sk-container-id-1 div.sk-label input.sk-toggleable__control:checked~label.sk-toggleable__label {background-color: #d4ebff;}#sk-container-id-1 input.sk-hidden--visually {border: 0;clip: rect(1px 1px 1px 1px);clip: rect(1px, 1px, 1px, 1px);height: 1px;margin: -1px;overflow: hidden;padding: 0;position: absolute;width: 1px;}#sk-container-id-1 div.sk-estimator {font-family: monospace;background-color: #f0f8ff;border: 1px dotted black;border-radius: 0.25em;box-sizing: border-box;margin-bottom: 0.5em;}#sk-container-id-1 div.sk-estimator:hover {background-color: #d4ebff;}#sk-container-id-1 div.sk-parallel-item::after {content: \"\";width: 100%;border-bottom: 1px solid gray;flex-grow: 1;}#sk-container-id-1 div.sk-label:hover label.sk-toggleable__label {background-color: #d4ebff;}#sk-container-id-1 div.sk-serial::before {content: \"\";position: absolute;border-left: 1px solid gray;box-sizing: border-box;top: 0;bottom: 0;left: 50%;z-index: 0;}#sk-container-id-1 div.sk-serial {display: flex;flex-direction: column;align-items: center;background-color: white;padding-right: 0.2em;padding-left: 0.2em;position: relative;}#sk-container-id-1 div.sk-item {position: relative;z-index: 1;}#sk-container-id-1 div.sk-parallel {display: flex;align-items: stretch;justify-content: center;background-color: white;position: relative;}#sk-container-id-1 div.sk-item::before, #sk-container-id-1 div.sk-parallel-item::before {content: \"\";position: absolute;border-left: 1px solid gray;box-sizing: border-box;top: 0;bottom: 0;left: 50%;z-index: -1;}#sk-container-id-1 div.sk-parallel-item {display: flex;flex-direction: column;z-index: 1;position: relative;background-color: white;}#sk-container-id-1 div.sk-parallel-item:first-child::after {align-self: flex-end;width: 50%;}#sk-container-id-1 div.sk-parallel-item:last-child::after {align-self: flex-start;width: 50%;}#sk-container-id-1 div.sk-parallel-item:only-child::after {width: 0;}#sk-container-id-1 div.sk-dashed-wrapped {border: 1px dashed gray;margin: 0 0.4em 0.5em 0.4em;box-sizing: border-box;padding-bottom: 0.4em;background-color: white;}#sk-container-id-1 div.sk-label label {font-family: monospace;font-weight: bold;display: inline-block;line-height: 1.2em;}#sk-container-id-1 div.sk-label-container {text-align: center;}#sk-container-id-1 div.sk-container {/* jupyter's `normalize.less` sets `[hidden] { display: none; }` but bootstrap.min.css set `[hidden] { display: none !important; }` so we also need the `!important` here to be able to override the default hidden behavior on the sphinx rendered scikit-learn.org. See: https://github.com/scikit-learn/scikit-learn/issues/21755 */display: inline-block !important;position: relative;}#sk-container-id-1 div.sk-text-repr-fallback {display: none;}</style><div id=\"sk-container-id-1\" class=\"sk-top-container\"><div class=\"sk-text-repr-fallback\"><pre>XGBClassifier(base_score=None, booster=None, callbacks=None,\n",
              "              colsample_bylevel=None, colsample_bynode=None,\n",
              "              colsample_bytree=None, device=None, early_stopping_rounds=None,\n",
              "              enable_categorical=False, eval_metric=None, feature_types=None,\n",
              "              gamma=None, grow_policy=None, importance_type=None,\n",
              "              interaction_constraints=None, learning_rate=0.1, max_bin=None,\n",
              "              max_cat_threshold=None, max_cat_to_onehot=None,\n",
              "              max_delta_step=None, max_depth=None, max_leaves=None,\n",
              "              min_child_weight=None, missing=nan, monotone_constraints=None,\n",
              "              multi_strategy=None, n_estimators=500, n_jobs=None,\n",
              "              num_parallel_tree=None, random_state=55, ...)</pre><b>In a Jupyter environment, please rerun this cell to show the HTML representation or trust the notebook. <br />On GitHub, the HTML representation is unable to render, please try loading this page with nbviewer.org.</b></div><div class=\"sk-container\" hidden><div class=\"sk-item\"><div class=\"sk-estimator sk-toggleable\"><input class=\"sk-toggleable__control sk-hidden--visually\" id=\"sk-estimator-id-1\" type=\"checkbox\" checked><label for=\"sk-estimator-id-1\" class=\"sk-toggleable__label sk-toggleable__label-arrow\">XGBClassifier</label><div class=\"sk-toggleable__content\"><pre>XGBClassifier(base_score=None, booster=None, callbacks=None,\n",
              "              colsample_bylevel=None, colsample_bynode=None,\n",
              "              colsample_bytree=None, device=None, early_stopping_rounds=None,\n",
              "              enable_categorical=False, eval_metric=None, feature_types=None,\n",
              "              gamma=None, grow_policy=None, importance_type=None,\n",
              "              interaction_constraints=None, learning_rate=0.1, max_bin=None,\n",
              "              max_cat_threshold=None, max_cat_to_onehot=None,\n",
              "              max_delta_step=None, max_depth=None, max_leaves=None,\n",
              "              min_child_weight=None, missing=nan, monotone_constraints=None,\n",
              "              multi_strategy=None, n_estimators=500, n_jobs=None,\n",
              "              num_parallel_tree=None, random_state=55, ...)</pre></div></div></div></div></div>"
            ]
          },
          "metadata": {},
          "execution_count": 52
        }
      ]
    },
    {
      "cell_type": "code",
      "source": [
        "xgb_model.best_iteration\n",
        "print(f\"Metrics train:\\n\\tAccuracy score: {accuracy_score(xgb_model.predict(X_train),y_train):.4f}\\nMetrics test:\\n\\tAccuracy score: {accuracy_score(xgb_model.predict(X_test),y_test):.4f}\")\n"
      ],
      "metadata": {
        "colab": {
          "base_uri": "https://localhost:8080/"
        },
        "id": "F59-T5bmnZbQ",
        "outputId": "71fda2fe-ff7f-483c-f209-32c3f58af94c"
      },
      "execution_count": 53,
      "outputs": [
        {
          "output_type": "stream",
          "name": "stdout",
          "text": [
            "Metrics train:\n",
            "\tAccuracy score: 0.9319\n",
            "Metrics test:\n",
            "\tAccuracy score: 0.8533\n"
          ]
        }
      ]
    }
  ]
}