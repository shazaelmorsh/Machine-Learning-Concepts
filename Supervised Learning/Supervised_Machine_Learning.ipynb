{
  "nbformat": 4,
  "nbformat_minor": 0,
  "metadata": {
    "colab": {
      "provenance": [],
      "toc_visible": true,
      "authorship_tag": "ABX9TyNnBN5HrDGhRnXBEpy1AlbU",
      "include_colab_link": true
    },
    "kernelspec": {
      "name": "python3",
      "display_name": "Python 3"
    },
    "language_info": {
      "name": "python"
    }
  },
  "cells": [
    {
      "cell_type": "markdown",
      "metadata": {
        "id": "view-in-github",
        "colab_type": "text"
      },
      "source": [
        "<a href=\"https://colab.research.google.com/github/shazaelmorsh/Machine-Learning-Concepts/blob/main/Supervised_Machine_Learning.ipynb\" target=\"_parent\"><img src=\"https://colab.research.google.com/assets/colab-badge.svg\" alt=\"Open In Colab\"/></a>"
      ]
    },
    {
      "cell_type": "markdown",
      "source": [
        "## Importing Libraries\n",
        "We will import numpy for computing and Matplotlib for plotting data"
      ],
      "metadata": {
        "id": "Ol3MJZApK7Pp"
      }
    },
    {
      "cell_type": "code",
      "execution_count": 1,
      "metadata": {
        "id": "Oig1IAxTIV7m"
      },
      "outputs": [],
      "source": [
        "import numpy as np\n",
        "import matplotlib.pyplot as plt\n",
        "# plt.style.use() TO-DO"
      ]
    },
    {
      "cell_type": "markdown",
      "source": [
        "Create one dimensional arrays to plot"
      ],
      "metadata": {
        "id": "6GUSt7hxLwvH"
      }
    },
    {
      "cell_type": "code",
      "source": [
        "x_train = np.array([1,2])\n",
        "y_train = np.array([300,500])\n",
        "print(f'x_train = {x_train}')\n",
        "print(f'x_train = {y_train}')\n",
        "\n",
        "# check number of examples\n",
        "print(f'Number of training examples are {x_train.shape[0]}')"
      ],
      "metadata": {
        "colab": {
          "base_uri": "https://localhost:8080/"
        },
        "id": "ou3PQRZbLz4z",
        "outputId": "dd1b4a08-14d3-48cb-8f77-fa69bd9d1b42"
      },
      "execution_count": 2,
      "outputs": [
        {
          "output_type": "stream",
          "name": "stdout",
          "text": [
            "x_train = [1 2]\n",
            "x_train = [300 500]\n",
            "Number of training examples are 2\n"
          ]
        }
      ]
    },
    {
      "cell_type": "markdown",
      "source": [
        "Plotting the data"
      ],
      "metadata": {
        "id": "YqZbE69zN4vk"
      }
    },
    {
      "cell_type": "code",
      "source": [
        "#plot the data points\n",
        "plt.scatter(x_train,y_train)\n",
        "plt.xlabel(\"size of the house\")\n",
        "plt.ylabel(\"price of the house\")"
      ],
      "metadata": {
        "colab": {
          "base_uri": "https://localhost:8080/",
          "height": 467
        },
        "id": "nhncyzPJOFfX",
        "outputId": "5b8d790b-244c-432d-cc62-3b5c8b504e24"
      },
      "execution_count": 3,
      "outputs": [
        {
          "output_type": "execute_result",
          "data": {
            "text/plain": [
              "Text(0, 0.5, 'price of the house')"
            ]
          },
          "metadata": {},
          "execution_count": 3
        },
        {
          "output_type": "display_data",
          "data": {
            "text/plain": [
              "<Figure size 640x480 with 1 Axes>"
            ],
            "image/png": "[encoded data removed]"
          },
          "metadata": {}
        }
      ]
    },
    {
      "cell_type": "markdown",
      "source": [
        "# Linear Regression"
      ],
      "metadata": {
        "id": "SLak4O6jSNsr"
      }
    },
    {
      "cell_type": "markdown",
      "source": [
        "##Single Feature"
      ],
      "metadata": {
        "id": "1G-ffcFxGBbR"
      }
    },
    {
      "cell_type": "markdown",
      "source": [
        "###Linear Function: Single Feature"
      ],
      "metadata": {
        "id": "_kc2tWFVFWc0"
      }
    },
    {
      "cell_type": "markdown",
      "source": [
        "Linear Function : $$ f_{w,b}(x^{(i)}) = wx^{(i)} + b \\tag{1}$$"
      ],
      "metadata": {
        "id": "LKQEpNYwPtB1"
      }
    },
    {
      "cell_type": "code",
      "source": [
        "#initialize w and b with random values\n",
        "w = 100\n",
        "b = 100\n",
        "def compute_linear_model(x,w,b):\n",
        "  f_wb = np.zeros(x.shape[0])\n",
        "  #looping over training examples\n",
        "  for i in range(f_wb.shape[0]):\n",
        "    f_wb[i] = w * x[i] + b\n",
        "  return f_wb\n",
        "\n",
        "y_prediction = compute_linear_model(x_train,w,b)"
      ],
      "metadata": {
        "id": "xR-tljKeQNwl"
      },
      "execution_count": 4,
      "outputs": []
    },
    {
      "cell_type": "code",
      "source": [
        "plt.plot(x_train,y_prediction, label = \"our prediction\")\n",
        "plt.scatter(x_train,y_train, label = \"actual value\")"
      ],
      "metadata": {
        "colab": {
          "base_uri": "https://localhost:8080/",
          "height": 448
        },
        "id": "0nAjueknRpsL",
        "outputId": "3e6260c6-27bb-43db-bdf0-e1a5c736f551"
      },
      "execution_count": 5,
      "outputs": [
        {
          "output_type": "execute_result",
          "data": {
            "text/plain": [
              "<matplotlib.collections.PathCollection at 0x79c10872db40>"
            ]
          },
          "metadata": {},
          "execution_count": 5
        },
        {
          "output_type": "display_data",
          "data": {
            "text/plain": [
              "<Figure size 640x480 with 1 Axes>"
            ],
            "image/png": "[encoded data removed]"
          },
          "metadata": {}
        }
      ]
    },
    {
      "cell_type": "markdown",
      "source": [
        "### Cost Function: Single Feature"
      ],
      "metadata": {
        "id": "rF69upNySTGk"
      }
    },
    {
      "cell_type": "markdown",
      "source": [
        "The equation for cost with one variable is:\n",
        "  $$J(w,b) = \\frac{1}{2m} \\sum\\limits_{i = 0}^{m-1} (f_{w,b}(x^{(i)}) - y^{(i)})^2 \\tag{1}$$\n",
        "\n",
        "where\n",
        "  $$f_{w,b}(x^{(i)}) = wx^{(i)} + b \\tag{2}$$"
      ],
      "metadata": {
        "id": "5fQNb63CSso3"
      }
    },
    {
      "cell_type": "code",
      "source": [
        "def compute_cost(x,y,w,b):\n",
        "  cost_sum = 0\n",
        "  y_prediction = compute_linear_model(x,w,b)\n",
        "  for i in range(x.shape[0]):\n",
        "    cost_sum = cost_sum + (y_prediction[i] - y[i])**2\n",
        "  cost_sum = cost_sum / 2*x.shape[0]\n",
        "  return cost_sum\n",
        "\n",
        "print(\"Cost is equal \",compute_cost(x_train,y_train,200,100))"
      ],
      "metadata": {
        "colab": {
          "base_uri": "https://localhost:8080/"
        },
        "id": "j1hC2MuESVSo",
        "outputId": "f8766db4-9725-4145-bcc3-e3670452878d"
      },
      "execution_count": 6,
      "outputs": [
        {
          "output_type": "stream",
          "name": "stdout",
          "text": [
            "Cost is equal  0.0\n"
          ]
        }
      ]
    },
    {
      "cell_type": "markdown",
      "source": [
        "### Gradient Descent: Single Feature"
      ],
      "metadata": {
        "id": "EdEKmOlHbNNY"
      }
    },
    {
      "cell_type": "markdown",
      "source": [
        "\n",
        "$$\\begin{align*} \\text{repeat}&\\text{ until convergence:} \\; \\lbrace \\newline\n",
        "\\;  w &= w -  \\alpha \\frac{\\partial J(w,b)}{\\partial w} \\tag{3}  \\; \\newline\n",
        " b &= b -  \\alpha \\frac{\\partial J(w,b)}{\\partial b}  \\newline \\rbrace\n",
        "\\end{align*}$$\n",
        "where, parameters $w$, $b$ are updated simultaneously.  \n",
        "The gradient is defined as:\n",
        "$$\n",
        "\\begin{align}\n",
        "\\frac{\\partial J(w,b)}{\\partial w}  &= \\frac{1}{m} \\sum\\limits_{i = 0}^{m-1} (f_{w,b}(x^{(i)}) - y^{(i)})x^{(i)} \\tag{4}\\\\\n",
        "  \\frac{\\partial J(w,b)}{\\partial b}  &= \\frac{1}{m} \\sum\\limits_{i = 0}^{m-1} (f_{w,b}(x^{(i)}) - y^{(i)}) \\tag{5}\\\\\n",
        "\\end{align}\n",
        "$$"
      ],
      "metadata": {
        "id": "yeli06wyVMHa"
      }
    },
    {
      "cell_type": "code",
      "source": [
        "#Gradient\n",
        "def compute_gradient(x,y,w,b):\n",
        "  m = x.shape[0]\n",
        "  dj_dw = 0\n",
        "  dj_db = 0\n",
        "  y_prediction = compute_linear_model(x,w,b)\n",
        "  for i in range(m):\n",
        "    dj_dw = (y_prediction[i] - y[i]) * x[i]\n",
        "    dj_db = (y_prediction[i] - y[i])\n",
        "  dj_dw = dj_dw / m\n",
        "  dj_db = dj_db / m\n",
        "  return dj_dw , dj_db\n",
        "\n",
        "#Gradient Descent\n",
        "def gradient_descent(x,y,w,b,alpha,num_iter, cost_function = compute_cost, gradient_function = compute_gradient):\n",
        "  p_history = []\n",
        "  j_history = []\n",
        "  for i in range(num_iter):\n",
        "    dj_dw , dj_db = gradient_function(x,y,w,b)\n",
        "    w = w - alpha * dj_dw\n",
        "    b = b - alpha * dj_db\n",
        "    if i < 100000:\n",
        "      j_history.append(cost_function(x,y,w,b))\n",
        "      p_history.append({w,b})\n",
        "  return w,b, j_history, p_history\n"
      ],
      "metadata": {
        "id": "vJb-_0QYVPSw"
      },
      "execution_count": 7,
      "outputs": []
    },
    {
      "cell_type": "code",
      "source": [
        "# initialize parameters\n",
        "w_init = 0\n",
        "b_init = 0\n",
        "# some gradient descent settings\n",
        "iterations = 10000\n",
        "tmp_alpha = 1.0e-2\n",
        "# run gradient descent\n",
        "w_final, b_final, J_hist, p_hist = gradient_descent(x_train ,y_train, w_init, b_init, tmp_alpha,\n",
        "                                                    iterations, compute_cost, compute_gradient)\n",
        "print(f\"(w,b) found by gradient descent: ({w_final:8.4f},{b_final:8.4f})\")"
      ],
      "metadata": {
        "colab": {
          "base_uri": "https://localhost:8080/"
        },
        "id": "YQz7x-YbalEr",
        "outputId": "128b6543-d74b-4198-8378-d45213ab20e1"
      },
      "execution_count": 8,
      "outputs": [
        {
          "output_type": "stream",
          "name": "stdout",
          "text": [
            "(w,b) found by gradient descent: (200.0000,100.0000)\n"
          ]
        }
      ]
    },
    {
      "cell_type": "markdown",
      "source": [
        "## Vectorization"
      ],
      "metadata": {
        "id": "LKEm5PnvbFTo"
      }
    },
    {
      "cell_type": "markdown",
      "source": [
        "moving on having more than 1 feature where we will need to make use of vectorization"
      ],
      "metadata": {
        "id": "c72AmVt-glfD"
      }
    },
    {
      "cell_type": "code",
      "source": [
        "#observing the change when creating more than 1-D array\n",
        "arr = np.array([1,2])\n",
        "arr=arr.reshape(-1,1)\n",
        "print(arr)\n",
        "print(arr.shape)\n",
        "# print(arr.shape[0])\n",
        "arr = np.array([[1, 2],[3,4],[2,4]])\n",
        "print(arr)\n",
        "print(arr.shape)\n",
        "# print(arr.shape[0])\n",
        "#shape is rows x columns"
      ],
      "metadata": {
        "colab": {
          "base_uri": "https://localhost:8080/"
        },
        "id": "7ruDsMqnhKl4",
        "outputId": "29a4ff2b-ad70-40e8-af6b-4e4299bfb3c8"
      },
      "execution_count": 9,
      "outputs": [
        {
          "output_type": "stream",
          "name": "stdout",
          "text": [
            "[[1]\n",
            " [2]]\n",
            "(2, 1)\n",
            "[[1 2]\n",
            " [3 4]\n",
            " [2 4]]\n",
            "(3, 2)\n"
          ]
        }
      ]
    },
    {
      "cell_type": "code",
      "source": [
        "x_train = np.array([[2104, 5, 1, 45], [1416, 3, 2, 40], [852, 2, 1, 35]])\n",
        "y_train = np.array([460, 232, 178])\n",
        "print(x_train.shape)\n",
        "print(x_train)\n",
        "print(y_train.shape)\n",
        "print(y_train)"
      ],
      "metadata": {
        "colab": {
          "base_uri": "https://localhost:8080/"
        },
        "id": "9ajX6OEKg-LL",
        "outputId": "1263c35e-4496-42ed-9f15-cb826b5aae01"
      },
      "execution_count": 10,
      "outputs": [
        {
          "output_type": "stream",
          "name": "stdout",
          "text": [
            "(3, 4)\n",
            "[[2104    5    1   45]\n",
            " [1416    3    2   40]\n",
            " [ 852    2    1   35]]\n",
            "(3,)\n",
            "[460 232 178]\n"
          ]
        }
      ]
    },
    {
      "cell_type": "markdown",
      "source": [
        "##Multiple Features"
      ],
      "metadata": {
        "id": "7S--4kX5Guwd"
      }
    },
    {
      "cell_type": "markdown",
      "source": [
        "### Linear Function: Multiple features"
      ],
      "metadata": {
        "id": "54KI3QTRjBsT"
      }
    },
    {
      "cell_type": "markdown",
      "source": [
        "$$ f_{\\mathbf{w},b}(\\mathbf{x}) =  w_0x_0 + w_1x_1 +... + w_{n-1}x_{n-1} + b \\tag{1}$$\n",
        "or in vector notation:\n",
        "$$ f_{\\mathbf{w},b}(\\mathbf{x}) = \\mathbf{w} \\cdot \\mathbf{x} + b  \\tag{2} $$\n",
        "where $\\cdot$ is a vector `dot product`"
      ],
      "metadata": {
        "id": "eKuMDsMPjfMq"
      }
    },
    {
      "cell_type": "code",
      "source": [
        "b_init = 785.1811367994083\n",
        "w_init = np.array([ 0.39133535, 18.75376741, -53.36032453, -26.42131618])\n",
        "x_train = np.array([[2104, 5, 1, 45], [1416, 3, 2, 40], [852, 2, 1, 35]])\n",
        "y_train = np.array([460, 232, 178])\n",
        "def compute_linear_model_multiple_features(x,w,b):\n",
        "  f_wb = np.zeros(x.shape[0])\n",
        "  #looping over training examples\n",
        "  for i in range(x.shape[0]):\n",
        "    f_wb[i] = np.dot(x[i] , w) + b\n",
        "  return f_wb\n",
        "\n",
        "print(compute_linear_model_multiple_features(x_train,w_init,b_init))"
      ],
      "metadata": {
        "colab": {
          "base_uri": "https://localhost:8080/"
        },
        "id": "Dz0Ve7xKjGWe",
        "outputId": "5463f3f6-0002-4d83-d0f2-6af3bd1672c3"
      },
      "execution_count": 11,
      "outputs": [
        {
          "output_type": "stream",
          "name": "stdout",
          "text": [
            "[459.99999762 231.99999837 177.99999899]\n"
          ]
        }
      ]
    },
    {
      "cell_type": "markdown",
      "source": [
        "### Cost function: multiple feature"
      ],
      "metadata": {
        "id": "ZqX7o_2govP3"
      }
    },
    {
      "cell_type": "markdown",
      "source": [
        "The equation for the cost function with multiple variables $J(\\mathbf{w},b)$ is:\n",
        "$$J(\\mathbf{w},b) = \\frac{1}{2m} \\sum\\limits_{i = 0}^{m-1} (f_{\\mathbf{w},b}(\\mathbf{x}^{(i)}) - y^{(i)})^2 \\tag{3}$$\n",
        "where:\n",
        "$$ f_{\\mathbf{w},b}(\\mathbf{x}^{(i)}) = \\mathbf{w} \\cdot \\mathbf{x}^{(i)} + b  \\tag{4} $$\n"
      ],
      "metadata": {
        "id": "oeZR-XT0o7ri"
      }
    },
    {
      "cell_type": "code",
      "source": [
        "def compute_cost_multiple_features(x,y,w,b):\n",
        "  m = x.shape[0]\n",
        "  y_pred = compute_linear_model_multiple_features(x,w,b)\n",
        "  cost = 0\n",
        "  for i in range(m):\n",
        "    cost = cost + (y_pred[i] - y[i])**2\n",
        "  cost = cost/ (2 * m)\n",
        "  return cost"
      ],
      "metadata": {
        "id": "ysdEYzZIoylO"
      },
      "execution_count": 12,
      "outputs": []
    },
    {
      "cell_type": "code",
      "source": [
        "#testing my functions\n",
        "cost = compute_cost_multiple_features(x_train, y_train, w_init, b_init)\n",
        "print(f'Cost at optimal w : {cost}')"
      ],
      "metadata": {
        "colab": {
          "base_uri": "https://localhost:8080/"
        },
        "id": "OR4LDo7cqbbN",
        "outputId": "2cea5254-8a1b-43fa-a6f8-be0c9033b428"
      },
      "execution_count": 13,
      "outputs": [
        {
          "output_type": "stream",
          "name": "stdout",
          "text": [
            "Cost at optimal w : 1.5578904428966628e-12\n"
          ]
        }
      ]
    },
    {
      "cell_type": "markdown",
      "source": [
        "### Gradient descent: multiple feature"
      ],
      "metadata": {
        "id": "9EJBH04gsG8B"
      }
    },
    {
      "cell_type": "markdown",
      "source": [
        "Gradient descent for multiple variables:\n",
        "\n",
        "$$\\begin{align*} \\text{repeat}&\\text{ until convergence:} \\; \\lbrace \\newline\\;\n",
        "& w_j = w_j -  \\alpha \\frac{\\partial J(\\mathbf{w},b)}{\\partial w_j} \\tag{5}  \\; & \\text{for j = 0..n-1}\\newline\n",
        "&b\\ \\ = b -  \\alpha \\frac{\\partial J(\\mathbf{w},b)}{\\partial b}  \\newline \\rbrace\n",
        "\\end{align*}$$\n",
        "\n",
        "where, n is the number of features, parameters $w_j$,  $b$, are updated simultaneously and where  \n",
        "\n",
        "$$\n",
        "\\begin{align}\n",
        "\\frac{\\partial J(\\mathbf{w},b)}{\\partial w_j}  &= \\frac{1}{m} \\sum\\limits_{i = 0}^{m-1} (f_{\\mathbf{w},b}(\\mathbf{x}^{(i)}) - y^{(i)})x_{j}^{(i)} \\tag{6}  \\\\\n",
        "\\frac{\\partial J(\\mathbf{w},b)}{\\partial b}  &= \\frac{1}{m} \\sum\\limits_{i = 0}^{m-1} (f_{\\mathbf{w},b}(\\mathbf{x}^{(i)}) - y^{(i)}) \\tag{7}\n",
        "\\end{align}\n",
        "$$\n",
        "* m is the number of training examples in the data set\n",
        "\n",
        "    \n",
        "*  $f_{\\mathbf{w},b}(\\mathbf{x}^{(i)})$ is the model's prediction, while $y^{(i)}$ is the target value"
      ],
      "metadata": {
        "id": "psk1rCD4sLxV"
      }
    },
    {
      "cell_type": "code",
      "source": [
        "#Gradient\n",
        "def compute_gradient_multiple_features(x,y,w,b):\n",
        "  y_pred = compute_linear_model_multiple_features(x,w,b)\n",
        "  m = x.shape[0]\n",
        "  dj_dw = 0\n",
        "  dj_db = 0\n",
        "  for i in range(m):\n",
        "    dj_dw = dj_dw + (y_pred[i] - y[i]) * x[i]\n",
        "    dj_db = dj_db + (y_pred[i] - y[i])\n",
        "  dj_dw = dj_dw / m\n",
        "  dj_db = dj_db / m\n",
        "  return dj_dw , dj_db\n",
        "\n",
        "#Gradient Descent\n",
        "def gradient_descent_multiple_features(x,y,w,b,alpha,num_iter, cost_function = compute_cost_multiple_features, gradient_function = compute_gradient_multiple_features):\n",
        "  j_history = []\n",
        "  for i in range(num_iter):\n",
        "    dj_dw , dj_db = gradient_function(x,y,w,b)\n",
        "    w = w - alpha * dj_dw\n",
        "    b = b - alpha * dj_db\n",
        "\n",
        "    if i <10000:\n",
        "      j_history.append(cost_function(x,y,w,b))\n",
        "  return w,b,j_history\n"
      ],
      "metadata": {
        "id": "r9q4F8sCsWKq"
      },
      "execution_count": 14,
      "outputs": []
    },
    {
      "cell_type": "code",
      "source": [
        "#Compute and display gradient\n",
        "tmp_dj_db, tmp_dj_dw = compute_gradient_multiple_features(x_train, y_train, w_init, b_init)\n",
        "print(f'dj_db at initial w,b: {tmp_dj_db}')\n",
        "print(f'dj_dw at initial w,b: \\n {tmp_dj_dw}')"
      ],
      "metadata": {
        "colab": {
          "base_uri": "https://localhost:8080/"
        },
        "id": "wKcB-B_n0dM_",
        "outputId": "f94decea-a8bb-46a9-b835-ac16ef8a704a"
      },
      "execution_count": 15,
      "outputs": [
        {
          "output_type": "stream",
          "name": "stdout",
          "text": [
            "dj_db at initial w,b: [-2.72623577e-03 -6.27197263e-06 -2.21745578e-06 -6.92403391e-05]\n",
            "dj_dw at initial w,b: \n",
            " -1.6739251501955248e-06\n"
          ]
        }
      ]
    },
    {
      "cell_type": "code",
      "source": [
        "# initialize parameters\n",
        "initial_w = np.zeros_like(w_init)\n",
        "initial_b = 0.\n",
        "# some gradient descent settings\n",
        "iterations = 1000\n",
        "alpha = 5.0e-7\n",
        "# run gradient descent\n",
        "w_final, b_final, J_hist = gradient_descent_multiple_features(x_train, y_train, initial_w, initial_b,\n",
        "                                                    alpha, iterations)\n",
        "print(f\"b,w found by gradient descent: {b_final:0.2f},{w_final} \")\n",
        "m,_ = x_train.shape\n",
        "for i in range(m):\n",
        "    print(f\"prediction: {np.dot(x_train[i], w_final) + b_final:0.2f}, target value: {y_train[i]}\")"
      ],
      "metadata": {
        "colab": {
          "base_uri": "https://localhost:8080/"
        },
        "id": "XLlT5ja72abc",
        "outputId": "909e3c63-400d-4dde-bf53-33d5b59919ab"
      },
      "execution_count": 16,
      "outputs": [
        {
          "output_type": "stream",
          "name": "stdout",
          "text": [
            "b,w found by gradient descent: -0.00,[ 0.20396569  0.00374919 -0.0112487  -0.0658614 ] \n",
            "prediction: 426.19, target value: 460\n",
            "prediction: 286.17, target value: 232\n",
            "prediction: 171.47, target value: 178\n"
          ]
        }
      ]
    },
    {
      "cell_type": "markdown",
      "source": [
        "## Regularization"
      ],
      "metadata": {
        "id": "2WZ1qdrPC4Re"
      }
    },
    {
      "cell_type": "markdown",
      "source": [
        "Graph before regularization"
      ],
      "metadata": {
        "id": "wjsNpVisDBlD"
      }
    },
    {
      "cell_type": "code",
      "source": [
        "from scipy.stats import norm\n",
        "#TO-DO\n",
        "def norm_plot(ax, data):\n",
        "    scale = (np.max(data) - np.min(data))*0.2\n",
        "    x = np.linspace(np.min(data)-scale,np.max(data)+scale,50)\n",
        "    _,bins, _ = ax.hist(data, x, color=\"xkcd:azure\")\n",
        "    #ax.set_ylabel(\"Count\")\n",
        "\n",
        "    mu = np.mean(data);\n",
        "    std = np.std(data);\n",
        "    dist = norm.pdf(bins, loc=mu, scale = std)\n",
        "\n",
        "    axr = ax.twinx()\n",
        "    axr.plot(bins,dist, color = \"orangered\", lw=2)\n",
        "    axr.set_ylim(bottom=0)\n",
        "    axr.axis('off')"
      ],
      "metadata": {
        "id": "MSVFZ3bMKOZg"
      },
      "execution_count": 17,
      "outputs": []
    },
    {
      "cell_type": "code",
      "source": [
        "x_train = np.array([[2104, 5, 1, 45], [1416, 3, 2, 40], [852, 2, 1, 35]])\n",
        "y_train = np.array([460, 232, 178])\n",
        "fig,ax=plt.subplots(1, 4, figsize=(12, 3), sharey=True)\n",
        "ax[0].scatter(x_train[:,0],y_train)\n",
        "ax[1].scatter(x_train[:,0],y_train)\n",
        "ax[2].scatter(x_train[:,0],y_train)\n",
        "ax[3].scatter(x_train[:,0],y_train)\n"
      ],
      "metadata": {
        "colab": {
          "base_uri": "https://localhost:8080/",
          "height": 309
        },
        "id": "WnbtLeVODWI9",
        "outputId": "58b128d4-a60d-45f4-ba04-859f8280faaa"
      },
      "execution_count": 18,
      "outputs": [
        {
          "output_type": "execute_result",
          "data": {
            "text/plain": [
              "<matplotlib.collections.PathCollection at 0x79c0e301e260>"
            ]
          },
          "metadata": {},
          "execution_count": 18
        },
        {
          "output_type": "display_data",
          "data": {
            "text/plain": [
              "<Figure size 1200x300 with 4 Axes>"
            ],
            "image/png": "[encoded data removed]"
          },
          "metadata": {}
        }
      ]
    },
    {
      "cell_type": "markdown",
      "source": [
        "- Feature scaling, essentially dividing each positive feature by its maximum value, or more generally, rescale each feature by both its minimum and maximum values using (x-min)/(max-min). Both ways normalizes features to the range of -1 and 1, where the former method works for positive features which is simple and serves well for the lecture's example, and the latter method works for any features.\n",
        "- Mean normalization: $x_i := \\dfrac{x_i - \\mu_i}{max - min} $\n",
        "- Z-score normalization.\n",
        "To implement z-score normalization, adjust your input values as shown in this formula:\n",
        "$$x^{(i)}_j = \\dfrac{x^{(i)}_j - \\mu_j}{\\sigma_j} \\tag{4}$$\n",
        "where $j$ selects a feature or a column in the $\\mathbf{X}$ matrix. $µ_j$ is the mean of all the values for feature (j) and $\\sigma_j$ is the standard deviation of feature (j).\n",
        "$$\n",
        "\\begin{align}\n",
        "\\mu_j &= \\frac{1}{m} \\sum_{i=0}^{m-1} x^{(i)}_j \\tag{5}\\\\\n",
        "\\sigma^2_j &= \\frac{1}{m} \\sum_{i=0}^{m-1} (x^{(i)}_j - \\mu_j)^2  \\tag{6}\n",
        "\\end{align}\n",
        "$$\n",
        "\n",
        ">**Implementation Note:** When normalizing the features, it is important\n",
        "to store the values used for normalization - the mean value and the standard deviation used for the computations. After learning the parameters\n",
        "from the model, we often want to predict the prices of houses we have not\n",
        "seen before. Given a new x value (living room area and number of bed-\n",
        "rooms), we must first normalize x using the mean and standard deviation\n",
        "that we had previously computed from the training set."
      ],
      "metadata": {
        "id": "E_vsUbAHHVfW"
      }
    },
    {
      "cell_type": "markdown",
      "source": [
        "###z-score normalization"
      ],
      "metadata": {
        "id": "YTMelJU9FN0e"
      }
    },
    {
      "cell_type": "code",
      "source": [
        "def zscore_normalize_features(x):\n",
        "  mu = np.mean(x,0)\n",
        "  sig = np.std(x,0)\n",
        "  x_norm = (x - mu)/sig\n",
        "  # return x_norm, mu , sig\n",
        "  return x_norm\n",
        "# X_norm, X_mu, X_sigma = zscore_normalize_features(x_train)\n",
        "X_norm = zscore_normalize_features(x_train)\n",
        "print(\"before normalization\")\n",
        "print(x_train)\n",
        "print(\"after normalization\")\n",
        "print(X_norm)"
      ],
      "metadata": {
        "colab": {
          "base_uri": "https://localhost:8080/"
        },
        "id": "cUiDiNgAFBzE",
        "outputId": "414fb912-e03e-4927-9507-301f7753aa18"
      },
      "execution_count": 19,
      "outputs": [
        {
          "output_type": "stream",
          "name": "stdout",
          "text": [
            "before normalization\n",
            "[[2104    5    1   45]\n",
            " [1416    3    2   40]\n",
            " [ 852    2    1   35]]\n",
            "after normalization\n",
            "[[ 1.26311506  1.33630621 -0.70710678  1.22474487]\n",
            " [-0.08073519 -0.26726124  1.41421356  0.        ]\n",
            " [-1.18237987 -1.06904497 -0.70710678 -1.22474487]]\n"
          ]
        }
      ]
    },
    {
      "cell_type": "code",
      "source": [
        "fig,ax=plt.subplots(1, 4, figsize=(12, 3))\n",
        "for i in range(len(ax)):\n",
        "    norm_plot(ax[i],x_train[:,i])\n",
        "ax[0].set_ylabel(\"count\");\n",
        "fig.suptitle(\"distribution of features before normalization\")\n",
        "plt.show()\n",
        "fig,ax=plt.subplots(1,4,figsize=(12,3))\n",
        "for i in range(len(ax)):\n",
        "    norm_plot(ax[i],X_norm[:,i],)\n",
        "ax[0].set_ylabel(\"count\");\n",
        "fig.suptitle(\"distribution of features after normalization\")\n",
        "\n",
        "plt.show()"
      ],
      "metadata": {
        "colab": {
          "base_uri": "https://localhost:8080/",
          "height": 625
        },
        "id": "XXEhNqTpKWmV",
        "outputId": "c54b17d0-2ca1-4969-ba5e-1e7eee33e23e"
      },
      "execution_count": 20,
      "outputs": [
        {
          "output_type": "display_data",
          "data": {
            "text/plain": [
              "<Figure size 1200x300 with 8 Axes>"
            ],
            "image/png": "[encoded data removed]"
          },
          "metadata": {}
        },
        {
          "output_type": "display_data",
          "data": {
            "text/plain": [
              "<Figure size 1200x300 with 8 Axes>"
            ],
            "image/png": "[encoded data removed]"
          },
          "metadata": {}
        }
      ]
    },
    {
      "cell_type": "markdown",
      "source": [
        "##Feature Engineering"
      ],
      "metadata": {
        "id": "NOBFTkv1QE9H"
      }
    },
    {
      "cell_type": "code",
      "source": [
        "#creating random dataset\n",
        "# y = x^2 * w + b instead of y = x * w + b\n",
        "x = np.arange(0,20,1)\n",
        "y = 1 + x**2\n",
        "x = x.reshape(-1,1)\n",
        "x = np.c_[x, x**2]\n",
        "# X = x ** 2\n",
        "model_w,model_b, J_hist = gradient_descent_multiple_features(x[:,1],y,0,0,0.00001,5000)\n",
        "# print(x)\n",
        "# print(x[:,1])\n",
        "\n",
        "plt.scatter(x[:,0],y, marker='x',c='r', label=\"actual value\")\n",
        "plt.plot(x[:,0], np.dot(x[:,1],model_w) + model_b,label=\"prediction value\")\n",
        "plt.xlabel(\"x\")\n",
        "plt.ylabel(\"y\")\n",
        "plt.legend()\n",
        "plt.show()"
      ],
      "metadata": {
        "colab": {
          "base_uri": "https://localhost:8080/",
          "height": 449
        },
        "id": "IXueRFQRQH57",
        "outputId": "0c5759cc-b41a-40b0-ef36-c287df974cac"
      },
      "execution_count": 21,
      "outputs": [
        {
          "output_type": "display_data",
          "data": {
            "text/plain": [
              "<Figure size 640x480 with 1 Axes>"
            ],
            "image/png": "[encoded data removed]"
          },
          "metadata": {}
        }
      ]
    },
    {
      "cell_type": "code",
      "source": [
        "x = np.arange(0,20,1)\n",
        "# x = x.reshape(-1,1)\n",
        "y = np.cos(x/2)\n",
        "\n",
        "X = np.c_[x, x**2, x**3,x**4, x**5, x**6]\n",
        "print(X.shape[1])\n",
        "m = X.shape[1]\n",
        "X = zscore_normalize_features(X)\n",
        "model_w,model_b, _ = gradient_descent_multiple_features(X, y,np.zeros(m),0,0.34,20000)\n",
        "\n",
        "plt.scatter(x, y, marker='x', c='r', label=\"Actual Value\"); plt.title(\"Normalized x x**2, x**3 feature\")\n",
        "plt.plot(x,X@model_w + model_b, label=\"Predicted Value\"); plt.xlabel(\"x\"); plt.ylabel(\"y\"); plt.legend(); plt.show()"
      ],
      "metadata": {
        "colab": {
          "base_uri": "https://localhost:8080/",
          "height": 490
        },
        "id": "8ZIzy1WqftqE",
        "outputId": "fb4bd9e9-d888-478d-f3ac-c241c435aa85"
      },
      "execution_count": 22,
      "outputs": [
        {
          "output_type": "stream",
          "name": "stdout",
          "text": [
            "6\n"
          ]
        },
        {
          "output_type": "display_data",
          "data": {
            "text/plain": [
              "<Figure size 640x480 with 1 Axes>"
            ],
            "image/png": "[encoded data removed]"
          },
          "metadata": {}
        }
      ]
    },
    {
      "cell_type": "markdown",
      "source": [
        "## Scikit-Learn: Linear Regression"
      ],
      "metadata": {
        "id": "2u7XGk1houdk"
      }
    },
    {
      "cell_type": "code",
      "source": [
        "#import the library\n",
        "from sklearn.linear_model import SGDRegressor\n",
        "from sklearn.preprocessing import StandardScaler\n",
        "from sklearn.linear_model import LinearRegression"
      ],
      "metadata": {
        "id": "gHACZeHfpssX"
      },
      "execution_count": 23,
      "outputs": []
    },
    {
      "cell_type": "code",
      "source": [
        "#Create database\n",
        "x = np.arange(0,20,1)\n",
        "y_train = x * 10\n",
        "x = np.c_[x, x**2, x**3,x**4]\n",
        "X_features = ['size(sqft)','bedrooms','floors','age']\n"
      ],
      "metadata": {
        "id": "BJT8zPpopAZo"
      },
      "execution_count": 24,
      "outputs": []
    },
    {
      "cell_type": "markdown",
      "source": [
        "###SGD Regression"
      ],
      "metadata": {
        "id": "mjRZIQENMm3m"
      }
    },
    {
      "cell_type": "code",
      "source": [
        "scaler = StandardScaler()\n",
        "x_norm = scaler.fit_transform(x)\n",
        "sgdr = SGDRegressor(max_iter=1000)\n",
        "# Train the model\n",
        "sgdr.fit(x_norm, y_train)\n",
        "# get the weight and bias values\n",
        "b_norm = sgdr.intercept_\n",
        "w_norm = sgdr.coef_\n",
        "# make a prediction using sgdr.predict()\n",
        "y_pred_sgd = sgdr.predict(x)\n",
        "# make a prediction using w,b.\n",
        "y_pred = np.dot(x, w_norm) + b_norm"
      ],
      "metadata": {
        "id": "Ody_R6LPpxo5"
      },
      "execution_count": 25,
      "outputs": []
    },
    {
      "cell_type": "markdown",
      "source": [
        "###Linear Regression"
      ],
      "metadata": {
        "id": "Dijz9r-0MvOH"
      }
    },
    {
      "cell_type": "code",
      "source": [
        "#get instance of the model\n",
        "linear_model = LinearRegression()\n",
        "#train the model\n",
        "linear_model.fit(x,y_train)\n",
        "#get the weight and bias values\n",
        "b = linear_model.intercept_\n",
        "w = linear_model.coef_\n",
        "# check our prediction\n",
        "y_pred = linear_model.predict(x)\n"
      ],
      "metadata": {
        "id": "0evDEfhRMxpi"
      },
      "execution_count": 26,
      "outputs": []
    },
    {
      "cell_type": "markdown",
      "source": [
        "#Classification"
      ],
      "metadata": {
        "id": "0g_4n6QWW5Bs"
      }
    },
    {
      "cell_type": "code",
      "source": [
        "#create training examples\n",
        "x_train = np.array([0., 1, 2, 3, 4, 5])\n",
        "y_train = np.array([0,  0, 0, 1, 1, 1])\n",
        "x_train2 = np.array([[0.5, 1.5], [1,1], [1.5, 0.5], [3, 0.5], [2, 2], [1, 2.5]]) # multiple features\n",
        "y_train2 = np.array([0, 0, 0, 1, 1, 1])"
      ],
      "metadata": {
        "id": "sy7fPanPW72H"
      },
      "execution_count": 27,
      "outputs": []
    },
    {
      "cell_type": "code",
      "source": [
        "#create 2 plots\n",
        "pos = y_train == 1\n",
        "neg = y_train == 0\n",
        "fig,ax=plt.subplots(1,2,figsize=(8,3))\n",
        "ax[0].scatter(x_train[y_train == 1],y_train[y_train == 1],marker=\"o\")\n",
        "ax[0].scatter(x_train[y_train == 0],y_train[y_train == 0],marker=\"x\")\n",
        "ax[1].scatter(x_train2[pos,0],x_train2[pos,1],marker=\"o\")\n",
        "ax[1].scatter(x_train2[neg,0],x_train2[neg,1],marker=\"x\")"
      ],
      "metadata": {
        "colab": {
          "base_uri": "https://localhost:8080/",
          "height": 309
        },
        "id": "dHNzqpneXWnq",
        "outputId": "8731e55e-f539-4735-81b1-48beab0ae28b"
      },
      "execution_count": 28,
      "outputs": [
        {
          "output_type": "execute_result",
          "data": {
            "text/plain": [
              "<matplotlib.collections.PathCollection at 0x79c0e1903190>"
            ]
          },
          "metadata": {},
          "execution_count": 28
        },
        {
          "output_type": "display_data",
          "data": {
            "text/plain": [
              "<Figure size 800x300 with 2 Axes>"
            ],
            "image/png": "[encoded data removed]"
          },
          "metadata": {}
        }
      ]
    },
    {
      "cell_type": "markdown",
      "source": [
        "##Logistic Regression"
      ],
      "metadata": {
        "id": "juV9U78XZsau"
      }
    },
    {
      "cell_type": "markdown",
      "source": [
        "###Sigmoid function"
      ],
      "metadata": {
        "id": "V5dKdvw6Z2G6"
      }
    },
    {
      "cell_type": "markdown",
      "source": [
        "we would like the predictions of our classification model to be between 0 and 1 since our output variable $y$ is either 0 or 1.\n",
        "\n",
        "The formula for a sigmoid function is as follows -  \n",
        "\n",
        "$g(z) = \\frac{1}{1+e^{-z}}\\tag{1}$\n"
      ],
      "metadata": {
        "id": "iZrVi4OwaUm7"
      }
    },
    {
      "cell_type": "code",
      "source": [
        "def sigmoid(z):\n",
        "  g = 1 / (1 + np.exp(-z))\n",
        "  return g"
      ],
      "metadata": {
        "id": "ua8UZf8BZ499"
      },
      "execution_count": 29,
      "outputs": []
    },
    {
      "cell_type": "code",
      "source": [
        "z = np.arange(-10,10)\n",
        "y = sigmoid(z)\n",
        "plt.plot(z,y)"
      ],
      "metadata": {
        "colab": {
          "base_uri": "https://localhost:8080/",
          "height": 448
        },
        "id": "FrP0_f_sdWZz",
        "outputId": "02a5c110-01ed-412b-ff86-d66f4bad1df3"
      },
      "execution_count": 30,
      "outputs": [
        {
          "output_type": "execute_result",
          "data": {
            "text/plain": [
              "[<matplotlib.lines.Line2D at 0x79c0df6b1cf0>]"
            ]
          },
          "metadata": {},
          "execution_count": 30
        },
        {
          "output_type": "display_data",
          "data": {
            "text/plain": [
              "<Figure size 640x480 with 1 Axes>"
            ],
            "image/png": "[encoded data removed]"
          },
          "metadata": {}
        }
      ]
    },
    {
      "cell_type": "markdown",
      "source": [
        "$$ f_{\\mathbf{w},b}(\\mathbf{x}^{(i)}) = g(\\mathbf{w} \\cdot \\mathbf{x}^{(i)} + b ) \\tag{2} $$\n",
        "\n",
        "  where\n",
        "\n",
        "  $g(z) = \\frac{1}{1+e^{-z}}\\tag{3}$\n",
        "\n",
        "  for multiple features we can use the dot produt\n",
        "    $$\\mathbf{w} \\cdot \\mathbf{x} = w_0 x_0 + w_1 x_1$$\n",
        "  \n",
        "  \n",
        " * We interpret the output of the model ($f_{\\mathbf{w},b}(x)$) as the probability that $y=1$ given $\\mathbf{x}$ and parameterized by $\\mathbf{w}$ and $b$.\n",
        "* Therefore, to get a final prediction ($y=0$ or $y=1$) from the logistic regression model, we can use the following heuristic -\n",
        "\n",
        "  if $f_{\\mathbf{w},b}(x) >= 0.5$, predict $y=1$\n",
        "  \n",
        "  if $f_{\\mathbf{w},b}(x) < 0.5$, predict $y=0$\n",
        "\n"
      ],
      "metadata": {
        "id": "aLr6sYl2d9l4"
      }
    },
    {
      "cell_type": "markdown",
      "source": [
        "###Cost Function"
      ],
      "metadata": {
        "id": "oOkOUWamkNvc"
      }
    },
    {
      "cell_type": "markdown",
      "source": [
        "This is defined:\n",
        "* $loss(f_{\\mathbf{w},b}(\\mathbf{x}^{(i)}), y^{(i)})$ is the cost for a single data point, which is:\n",
        "\n",
        "\\begin{equation}\n",
        "  loss(f_{\\mathbf{w},b}(\\mathbf{x}^{(i)}), y^{(i)}) = \\begin{cases}\n",
        "    - \\log\\left(f_{\\mathbf{w},b}\\left( \\mathbf{x}^{(i)} \\right) \\right) & \\text{if $y^{(i)}=1$}\\\\\n",
        "    - \\log \\left( 1 - f_{\\mathbf{w},b}\\left( \\mathbf{x}^{(i)} \\right) \\right) & \\text{if $y^{(i)}=0$}\n",
        "  \\end{cases}\n",
        "\\end{equation}\n",
        "\n",
        "\n",
        "*  $f_{\\mathbf{w},b}(\\mathbf{x}^{(i)})$ is the model's prediction, while $y^{(i)}$ is the target value.\n",
        "\n",
        "*  $f_{\\mathbf{w},b}(\\mathbf{x}^{(i)}) = g(\\mathbf{w} \\cdot\\mathbf{x}^{(i)}+b)$ where function $g$ is the sigmoid function.\n",
        "\n",
        "The loss function above can be rewritten to be easier to implement.\n",
        "    $$loss(f_{\\mathbf{w},b}(\\mathbf{x}^{(i)}), y^{(i)}) = (-y^{(i)} \\log\\left(f_{\\mathbf{w},b}\\left( \\mathbf{x}^{(i)} \\right) \\right) - \\left( 1 - y^{(i)}\\right) \\log \\left( 1 - f_{\\mathbf{w},b}\\left( \\mathbf{x}^{(i)} \\right) \\right)$$\n",
        "    \n",
        "This is a rather formidable-looking equation. It is less daunting when you consider $y^{(i)}$ can have only two values, 0 and 1. One can then consider the equation in two pieces:  \n",
        "when $ y^{(i)} = 0$, the left-hand term is eliminated:\n",
        "$$\n",
        "\\begin{align}\n",
        "loss(f_{\\mathbf{w},b}(\\mathbf{x}^{(i)}), 0) &= (-(0) \\log\\left(f_{\\mathbf{w},b}\\left( \\mathbf{x}^{(i)} \\right) \\right) - \\left( 1 - 0\\right) \\log \\left( 1 - f_{\\mathbf{w},b}\\left( \\mathbf{x}^{(i)} \\right) \\right) \\\\\n",
        "&= -\\log \\left( 1 - f_{\\mathbf{w},b}\\left( \\mathbf{x}^{(i)} \\right) \\right)\n",
        "\\end{align}\n",
        "$$\n",
        "and when $ y^{(i)} = 1$, the right-hand term is eliminated:\n",
        "$$\n",
        "\\begin{align}\n",
        "  loss(f_{\\mathbf{w},b}(\\mathbf{x}^{(i)}), 1) &=  (-(1) \\log\\left(f_{\\mathbf{w},b}\\left( \\mathbf{x}^{(i)} \\right) \\right) - \\left( 1 - 1\\right) \\log \\left( 1 - f_{\\mathbf{w},b}\\left( \\mathbf{x}^{(i)} \\right) \\right)\\\\\n",
        "  &=  -\\log\\left(f_{\\mathbf{w},b}\\left( \\mathbf{x}^{(i)} \\right) \\right)\n",
        "\\end{align}\n",
        "$$\n",
        "\n",
        "Cost function:\n",
        "\n",
        "$$ J(\\mathbf{w},b) = \\frac{1}{m} \\sum_{i=0}^{m-1} \\left[ loss(f_{\\mathbf{w},b}(\\mathbf{x}^{(i)}), y^{(i)}) \\right] \\tag{1}$$"
      ],
      "metadata": {
        "id": "mBsLd_uFkPnQ"
      }
    },
    {
      "cell_type": "code",
      "source": [
        "def compute_cost_logistic(x,y,w,b):\n",
        "  m = x.shape[0]\n",
        "  cost = 0\n",
        "  for i in range(m):\n",
        "    y_pred = sigmoid(np.dot(w,x[i]) + b)\n",
        "    cost += -y[i]*np.log(y_pred) - (1-y[i])*np.log(1-y_pred)\n",
        "  cost = cost/m\n",
        "  return cost"
      ],
      "metadata": {
        "id": "6CCY7-3Mmxcf"
      },
      "execution_count": 65,
      "outputs": []
    },
    {
      "cell_type": "code",
      "source": [
        "#creating the dataset\n",
        "x_train = np.array([[0.5, 1.5], [1,1], [1.5, 0.5], [3, 0.5], [2, 2], [1, 2.5]])  #(m,n)\n",
        "y_train = np.array([0, 0, 0, 1, 1, 1])                                           #(m,)\n",
        "w_tmp = np.array([1,1])\n",
        "b_tmp = -3\n",
        "print(compute_cost_logistic(x_train, y_train, w_tmp, b_tmp))"
      ],
      "metadata": {
        "colab": {
          "base_uri": "https://localhost:8080/"
        },
        "id": "QQbfa6lQkkcZ",
        "outputId": "fff58d2d-0af0-4e6c-b48f-4e7c44dfc095"
      },
      "execution_count": 66,
      "outputs": [
        {
          "output_type": "stream",
          "name": "stdout",
          "text": [
            "[0.5 1.5]\n",
            "0.2689414213699951\n",
            "[1. 1.]\n",
            "0.2689414213699951\n",
            "[1.5 0.5]\n",
            "0.2689414213699951\n",
            "[3.  0.5]\n",
            "0.6224593312018546\n",
            "[2. 2.]\n",
            "0.7310585786300049\n",
            "[1.  2.5]\n",
            "0.6224593312018546\n",
            "0.36686678640551745\n"
          ]
        }
      ]
    },
    {
      "cell_type": "markdown",
      "source": [
        "###Logistic Gradient Descent\n"
      ],
      "metadata": {
        "id": "YVhTJuaowmF_"
      }
    },
    {
      "cell_type": "markdown",
      "source": [
        "Recall the gradient descent algorithm utilizes the gradient calculation:\n",
        "$$\\begin{align*}\n",
        "&\\text{repeat until convergence:} \\; \\lbrace \\\\\n",
        "&  \\; \\; \\;w_j = w_j -  \\alpha \\frac{\\partial J(\\mathbf{w},b)}{\\partial w_j} \\tag{1}  \\; & \\text{for j := 0..n-1} \\\\\n",
        "&  \\; \\; \\;  \\; \\;b = b -  \\alpha \\frac{\\partial J(\\mathbf{w},b)}{\\partial b} \\\\\n",
        "&\\rbrace\n",
        "\\end{align*}$$\n",
        "\n",
        "Where each iteration performs simultaneous updates on $w_j$ for all $j$, where\n",
        "$$\\begin{align*}\n",
        "\\frac{\\partial J(\\mathbf{w},b)}{\\partial w_j}  &= \\frac{1}{m} \\sum\\limits_{i = 0}^{m-1} (f_{\\mathbf{w},b}(\\mathbf{x}^{(i)}) - y^{(i)})x_{j}^{(i)} \\tag{2} \\\\\n",
        "\\frac{\\partial J(\\mathbf{w},b)}{\\partial b}  &= \\frac{1}{m} \\sum\\limits_{i = 0}^{m-1} (f_{\\mathbf{w},b}(\\mathbf{x}^{(i)}) - y^{(i)}) \\tag{3}\n",
        "\\end{align*}$$\n",
        "\n",
        "* m is the number of training examples in the data set      \n",
        "* $f_{\\mathbf{w},b}(x^{(i)})$ is the model's prediction, while $y^{(i)}$ is the target\n",
        "* For a logistic regression model  \n",
        "    $z = \\mathbf{w} \\cdot \\mathbf{x} + b$  \n",
        "    $f_{\\mathbf{w},b}(x) = g(z)$  \n",
        "    where $g(z)$ is the sigmoid function:  \n",
        "    $g(z) = \\frac{1}{1+e^{-z}}$   \n",
        "    "
      ],
      "metadata": {
        "id": "64NgwLxgrdHL"
      }
    },
    {
      "cell_type": "code",
      "source": [
        "#Gradient\n",
        "def compute_gradient_multiple_features_logitic(x,y,w,b):\n",
        "  m = x.shape[0]\n",
        "  dj_dw = 0\n",
        "  dj_db = 0\n",
        "  y_pred = sigmoid(np.dot(x,w) + b)\n",
        "  for i in range(m):\n",
        "    dj_dw = dj_dw + (y_pred[i] - y[i]) * x[i]\n",
        "    dj_db = dj_db + (y_pred[i] - y[i])\n",
        "  dj_dw = dj_dw / m\n",
        "  dj_db = dj_db / m\n",
        "  return dj_dw , dj_db\n",
        "\n",
        "#Gradient Descent\n",
        "def gradient_descent_multiple_features_logistic(x,y,w,b,alpha,num_iter , gradient_function = compute_gradient_multiple_features_logitic):\n",
        "  for i in range(num_iter):\n",
        "    dj_dw , dj_db = gradient_function(x,y,w,b)\n",
        "    w = w - alpha * dj_dw\n",
        "    b = b - alpha * dj_db\n",
        "\n",
        "  return w,b"
      ],
      "metadata": {
        "id": "Y9KzhHuCr7Bc"
      },
      "execution_count": 33,
      "outputs": []
    },
    {
      "cell_type": "code",
      "source": [
        "#testing our code\n",
        "X_tmp = np.array([[0.5, 1.5], [1,1], [1.5, 0.5], [3, 0.5], [2, 2], [1, 2.5]])\n",
        "y_tmp = np.array([0, 0, 0, 1, 1, 1])\n",
        "w_tmp  = np.zeros_like(X_tmp[0])\n",
        "b_tmp  = 0.\n",
        "alph = 0.1\n",
        "iters = 10000\n",
        "\n",
        "w_out, b_out = gradient_descent_multiple_features_logistic(X_tmp, y_tmp, w_tmp, b_tmp, alph, iters)\n",
        "print(f\"\\nupdated parameters: w:{w_out}, b:{b_out}\")"
      ],
      "metadata": {
        "colab": {
          "base_uri": "https://localhost:8080/"
        },
        "id": "pUfuahHxtT78",
        "outputId": "88794a37-9ea1-40b8-c8f0-67087c15fe75"
      },
      "execution_count": 34,
      "outputs": [
        {
          "output_type": "stream",
          "name": "stdout",
          "text": [
            "\n",
            "updated parameters: w:[5.28123029 5.07815608], b:-14.222409982019839\n"
          ]
        }
      ]
    },
    {
      "cell_type": "code",
      "source": [
        "fig,ax = plt.subplots(1,1,figsize=(5,4))\n",
        "# plot the probability\n",
        "# plt_prob(ax, w_out, b_out)\n",
        "\n",
        "# Plot the original data\n",
        "ax.set_ylabel(r'$x_1$')\n",
        "ax.set_xlabel(r'$x_0$')\n",
        "ax.axis([0, 4, 0, 3.5])\n",
        "# plot_data(X_train,y_train,ax)\n",
        "plt.scatter(X_tmp[:,0],X_tmp[:,1])\n",
        "# Plot the decision boundary\n",
        "x0 = -b_out/w_out[0]\n",
        "x1 = -b_out/w_out[1]\n",
        "ax.plot([0,x0],[x1,0])"
      ],
      "metadata": {
        "colab": {
          "base_uri": "https://localhost:8080/",
          "height": 412
        },
        "id": "pOpMU87qvU3D",
        "outputId": "285e0028-e898-4bed-fec0-7f55a0f45b10"
      },
      "execution_count": 35,
      "outputs": [
        {
          "output_type": "execute_result",
          "data": {
            "text/plain": [
              "[<matplotlib.lines.Line2D at 0x79c0df539bd0>]"
            ]
          },
          "metadata": {},
          "execution_count": 35
        },
        {
          "output_type": "display_data",
          "data": {
            "text/plain": [
              "<Figure size 500x400 with 1 Axes>"
            ],
            "image/png": "[encoded data removed]"
          },
          "metadata": {}
        }
      ]
    },
    {
      "cell_type": "markdown",
      "source": [
        "###Scikit-learn: Logistic Regression"
      ],
      "metadata": {
        "id": "_c6lzQhuwROy"
      }
    },
    {
      "cell_type": "code",
      "source": [
        "#import library\n",
        "from sklearn.linear_model import LogisticRegression\n",
        "\n",
        "#create dataset\n",
        "x = np.array([[0.5, 1.5], [1,1], [1.5, 0.5], [3, 0.5], [2, 2], [1, 2.5]])\n",
        "y = np.array([0, 0, 0, 1, 1, 1])\n",
        "#create instance from model\n",
        "lr_model = LogisticRegression()\n",
        "lr_model.fit(x,y)\n",
        "#make a prediction\n",
        "y_pred = lr_model.predict(x)\n",
        "print(\"Prediction on training set:\", y_pred)\n",
        "#calculate accuracy\n",
        "print(\"Accuracy on training set:\", lr_model.score(x, y))\n"
      ],
      "metadata": {
        "colab": {
          "base_uri": "https://localhost:8080/"
        },
        "id": "9MRO9g21wa7_",
        "outputId": "232e72dd-d43c-4df9-ec7c-65f00905e97e"
      },
      "execution_count": 36,
      "outputs": [
        {
          "output_type": "stream",
          "name": "stdout",
          "text": [
            "Prediction on training set: [0 0 0 1 1 1]\n",
            "Accuracy on training set: 1.0\n"
          ]
        }
      ]
    },
    {
      "cell_type": "markdown",
      "source": [
        "##Softmax regression\n",
        "\n",
        "generalization of logistic regression"
      ],
      "metadata": {
        "id": "A4XCKGW5onp2"
      }
    },
    {
      "cell_type": "markdown",
      "source": [
        "###softmax function"
      ],
      "metadata": {
        "id": "i-6uTO4YrQmi"
      }
    },
    {
      "cell_type": "markdown",
      "source": [
        "The softmax function can be written:\n",
        "$$a_j = \\frac{e^{z_j}}{ \\sum_{k=1}^{N}{e^{z_k} }} \\tag{1}$$\n",
        "The output $\\mathbf{a}$ is a vector of length N, so for softmax regression, you could also write:\n",
        "\\begin{align}\n",
        "\\mathbf{a}(x) =\n",
        "\\begin{bmatrix}\n",
        "P(y = 1 | \\mathbf{x}; \\mathbf{w},b) \\\\\n",
        "\\vdots \\\\\n",
        "P(y = N | \\mathbf{x}; \\mathbf{w},b)\n",
        "\\end{bmatrix}\n",
        "=\n",
        "\\frac{1}{ \\sum_{k=1}^{N}{e^{z_k} }}\n",
        "\\begin{bmatrix}\n",
        "e^{z_1} \\\\\n",
        "\\vdots \\\\\n",
        "e^{z_{N}} \\\\\n",
        "\\end{bmatrix} \\tag{2}\n",
        "\\end{align}"
      ],
      "metadata": {
        "id": "lF5HbJ0AoukK"
      }
    },
    {
      "cell_type": "code",
      "source": [
        "#z is the linear function\n",
        "def compute_softmax(z):\n",
        "  z= np.dot(x[i],w) + b\n",
        "  # print(\"z,\",z)\n",
        "  ez = np.exp(z)\n",
        "  # print(\"ez,\",ez)\n",
        "  # print(\"sum,\",np.sum(ez))\n",
        "  a = ez/np.sum(ez)\n",
        "  # print(\"a,\",a)\n",
        "  return a"
      ],
      "metadata": {
        "id": "j3swcn4Epe1I"
      },
      "execution_count": 130,
      "outputs": []
    },
    {
      "cell_type": "markdown",
      "source": [
        "###cost function"
      ],
      "metadata": {
        "id": "s5FiBoImrSxU"
      }
    },
    {
      "cell_type": "markdown",
      "source": [
        "The loss function associated with Softmax, the cross-entropy loss, is:\n",
        "\\begin{equation}\n",
        "  L(\\mathbf{a},y)=\\begin{cases}\n",
        "    -log(a_1), & \\text{if $y=1$}.\\\\\n",
        "        &\\vdots\\\\\n",
        "     -log(a_N), & \\text{if $y=N$}\n",
        "  \\end{cases} \\tag{3}\n",
        "\\end{equation}\n",
        "\n",
        "Where y is the target category for this example and $\\mathbf{a}$ is the output of a softmax function. In particular, the values in $\\mathbf{a}$ are probabilities that sum to one.\n",
        ">**Recall:** In this course, Loss is for one example while Cost covers all examples.\n",
        "\n",
        "\n",
        "Note in (3) above, only the line that corresponds to the target contributes to the loss, other lines are zero. To write the cost equation we need an 'indicator function' that will be 1 when the index matches the target and zero otherwise.\n",
        "$$\n",
        "\\mathbf{1}\\{y = n\\} = \\begin{cases}\n",
        "1, & \\text{if } y = n.\\\\\n",
        "0, & \\text{otherwise}.\n",
        "\\end{cases}\n",
        "$$\n",
        "\n",
        "Now the cost is:\n",
        "\\begin{align}\n",
        "J(\\mathbf{w},b) = -\\frac{1}{m} \\left[ \\sum_{i=1}^{m} \\sum_{j=1}^{N}  1\\left\\{y^{(i)} == j\\right\\} \\log \\frac{e^{z^{(i)}_j}}{\\sum_{k=1}^N e^{z^{(i)}_k} }\\right] \\tag{4}\n",
        "\\end{align}\n",
        "\n",
        "Where M is the number of examples, N is the number of outputs. This is the average of all the losses."
      ],
      "metadata": {
        "id": "S0FjLaOLrVHx"
      }
    },
    {
      "cell_type": "code",
      "source": [
        "def compute_cost_softmax(x,y,w,b):\n",
        "  m = x.shape[0]\n",
        "  # print(m)\n",
        "  cost = 0\n",
        "  for i in range(m):\n",
        "    y_pred = compute_softmax(np.dot(x[i],w) + b)\n",
        "    # print(\"propability for each class: \", y_pred)\n",
        "    #we should only send the w and b assossiated with the y, or select the a assossiate with the real y\n",
        "    cost += -np.log(y_pred[y[i]])\n",
        "  cost = cost/m\n",
        "  return cost"
      ],
      "metadata": {
        "id": "pv0RWfA1yixj"
      },
      "execution_count": 133,
      "outputs": []
    },
    {
      "cell_type": "code",
      "source": [
        "#creating the dataset\n",
        "# 6 training sets and 2 number of outputs\n",
        "x_train = np.array([[0.5, 1.5], [1,1], [1.5, 0.5], [3, 0.5], [2, 2], [1, 2.5]])  #(m,n)\n",
        "y_train = np.array([0, 0, 0, 1, 1, 1])                                           #(m,)\n",
        "w = np.array([[1,1],[2,2]])\n",
        "b = np.array([-3,-2])\n",
        "print(compute_cost_softmax(x_train, y_train, w, b))"
      ],
      "metadata": {
        "colab": {
          "base_uri": "https://localhost:8080/"
        },
        "id": "Y52ZsvdXwSsA",
        "outputId": "bb4a14bf-d164-4583-847d-da29d431022a"
      },
      "execution_count": 134,
      "outputs": [
        {
          "output_type": "stream",
          "name": "stdout",
          "text": [
            "0.8132616875182227\n"
          ]
        }
      ]
    }
  ]
}