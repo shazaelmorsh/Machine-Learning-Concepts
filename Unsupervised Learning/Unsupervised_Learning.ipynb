{
  "nbformat": 4,
  "nbformat_minor": 0,
  "metadata": {
    "colab": {
      "provenance": [],
      "authorship_tag": "ABX9TyPdinDYdWU+Fx228jYgVXNG",
      "include_colab_link": true
    },
    "kernelspec": {
      "name": "python3",
      "display_name": "Python 3"
    },
    "language_info": {
      "name": "python"
    }
  },
  "cells": [
    {
      "cell_type": "markdown",
      "metadata": {
        "id": "view-in-github",
        "colab_type": "text"
      },
      "source": [
        "<a href=\"https://colab.research.google.com/github/shazaelmorsh/Machine-Learning-Concepts/blob/main/Unsupervised_Learning.ipynb\" target=\"_parent\"><img src=\"https://colab.research.google.com/assets/colab-badge.svg\" alt=\"Open In Colab\"/></a>"
      ]
    },
    {
      "cell_type": "markdown",
      "source": [
        "# K-means"
      ],
      "metadata": {
        "id": "nfdoaLpC1eh_"
      }
    },
    {
      "cell_type": "code",
      "source": [
        "import numpy as np\n",
        "import matplotlib.pyplot as plt"
      ],
      "metadata": {
        "id": "6TyDoDA76Cha"
      },
      "execution_count": null,
      "outputs": []
    },
    {
      "cell_type": "code",
      "execution_count": null,
      "metadata": {
        "id": "1CQ4Z7As1a6e"
      },
      "outputs": [],
      "source": [
        "#first step is to choose random centroids and assigning the points to the nearest centroids\n",
        "def find_closest_centroids(X , centroids):\n",
        "  K = centroids.shape[0]\n",
        "  res = np.zeros(X.shape[0])\n",
        "  idx = np.zeros(X.shape[0])\n",
        "  # print(f\"x is {X}\")\n",
        "  for i in range(X.shape[0]):\n",
        "    distance = []\n",
        "    for j in range(centroids.shape[0]):\n",
        "      # print(f\"X[i] - centroids[j] is {X[i] - centroids[j]}\")\n",
        "      norm_ij = np.linalg.norm(X[i] - centroids[j])\n",
        "      # print(f\"norm_ij is {norm_ij}\")\n",
        "      distance.append(norm_ij)\n",
        "    idx[i] = np.argmin(distance)\n",
        "  return idx"
      ]
    },
    {
      "cell_type": "code",
      "source": [
        "initial_centroids = np.array([[3,3], [6,2], [8,5]])\n",
        "np.random.seed(42)  # For reproducibility\n",
        "X = np.random.rand(10, 2) * 10  # Random numbers between 0 and 10\n",
        "# Find closest centroids using initial_centroids\n",
        "idx = find_closest_centroids(X, initial_centroids)"
      ],
      "metadata": {
        "id": "Wh2831SL6U01"
      },
      "execution_count": null,
      "outputs": []
    },
    {
      "cell_type": "code",
      "source": [
        "#second part of the algo is to calcalate the new centroids through the mean\n",
        "def calculate_centroids(X , idx, K):\n",
        "  m,n= X.shape\n",
        "  centroids = np.zeros((K, 2))\n",
        "  for k in range(K):\n",
        "    points = X[idx == k]\n",
        "    centroids[k] =np.mean(points)\n",
        "  return centroids\n"
      ],
      "metadata": {
        "id": "b5QoEz7VE8kM"
      },
      "execution_count": null,
      "outputs": []
    },
    {
      "cell_type": "code",
      "source": [
        "K = 3\n",
        "centroids = calculate_centroids(X, idx, K)\n",
        "\n",
        "print(\"The centroids are:\", centroids)"
      ],
      "metadata": {
        "colab": {
          "base_uri": "https://localhost:8080/"
        },
        "id": "YUO2fE9WHiTe",
        "outputId": "847b1479-7883-4140-8e29-0402c4c0070c"
      },
      "execution_count": null,
      "outputs": [
        {
          "output_type": "stream",
          "name": "stdout",
          "text": [
            "The centroids are: [[3.45347465 3.45347465]\n",
            " [5.22390876 5.22390876]\n",
            " [6.60849073 6.60849073]]\n"
          ]
        }
      ]
    },
    {
      "cell_type": "markdown",
      "source": [
        "# Anomaly Detection"
      ],
      "metadata": {
        "id": "61WVYfNzJOL8"
      }
    },
    {
      "cell_type": "markdown",
      "source": [
        "##Imports and load data"
      ],
      "metadata": {
        "id": "2lcWaRDONvMP"
      }
    },
    {
      "cell_type": "code",
      "source": [
        "import numpy as np\n",
        "import matplotlib.pyplot as plt"
      ],
      "metadata": {
        "id": "mEi92lroJRB8"
      },
      "execution_count": 1,
      "outputs": []
    },
    {
      "cell_type": "code",
      "source": [
        "X_train = np.array(\n",
        "    [[13.04681517, 14.74115241],\n",
        " [13.40852019 ,13.7632696 ],\n",
        " [14.19591481 ,15.85318113],\n",
        " [14.91470077 ,16.17425987],\n",
        " [13.57669961, 14.04284944],\n",
        " [13.92240251 ,13.40646894],\n",
        " [12.82213164 ,14.22318782],\n",
        " [15.67636615 ,15.89169137],\n",
        " [16.16287532 ,16.20299807],\n",
        " [12.66645095 ,14.89908374],\n",
        " [13.98454962 ,12.95800822],\n",
        " [14.06146043 ,14.54908874],\n",
        " [13.38988671 ,15.56202142],\n",
        " [13.39350475 ,15.62698794],\n",
        " [13.97900926 ,13.28061494],\n",
        " [14.16791259 ,14.46583829],\n",
        " [13.96176145 ,14.75182421],\n",
        " [14.45899735 ,15.07018563],\n",
        " [14.58476372 ,15.82743424],\n",
        " [12.07427074 ,13.0671109 ]])\n",
        "X_val =np.array([[15.79025979 ,14.9210243 ],\n",
        " [13.63961877, 15.32995521],\n",
        " [14.86589943, 16.47386514],\n",
        " [13.58467605, 13.98930611],\n",
        " [13.46404167, 15.63533011],\n",
        " [12.94888838, 16.14006828],\n",
        " [15.31084155, 15.17480137],\n",
        " [13.89795241, 15.43169469],\n",
        " [11.92096525, 14.30579937],\n",
        " [14.85934119, 14.90066474],\n",
        " [13.63501268, 14.5620583 ],\n",
        " [15.75981741 ,15.13340409],\n",
        " [15.221965   ,14.18491044],\n",
        " [12.10564111 ,13.42653822],\n",
        " [14.80848889 ,13.87075725],\n",
        " [15.36135887 ,15.99014917],\n",
        " [12.72914442 ,15.8265107 ],\n",
        " [15.38533789 ,15.21036416],\n",
        " [13.81810534 ,14.29933915],\n",
        " [15.3788488  ,15.90228514]])\n",
        "y_val = np.array([0,0,0,0,0,0,0,0,0,1,0,0,0,0,0,0,0,0,0,0])"
      ],
      "metadata": {
        "id": "TBB6MQwAMoeV"
      },
      "execution_count": 4,
      "outputs": []
    },
    {
      "cell_type": "markdown",
      "source": [
        "##Visualization"
      ],
      "metadata": {
        "id": "moKWb15VN64E"
      }
    },
    {
      "cell_type": "code",
      "source": [
        "plt.scatter(X_train[:,0],X_train[:,1])"
      ],
      "metadata": {
        "colab": {
          "base_uri": "https://localhost:8080/",
          "height": 447
        },
        "id": "Xr4PVPIgN5GM",
        "outputId": "6377ac2d-6d79-4117-9c69-b20655c14d78"
      },
      "execution_count": 5,
      "outputs": [
        {
          "output_type": "execute_result",
          "data": {
            "text/plain": [
              "<matplotlib.collections.PathCollection at 0x78473a614a00>"
            ]
          },
          "metadata": {},
          "execution_count": 5
        },
        {
          "output_type": "display_data",
          "data": {
            "text/plain": [
              "<Figure size 640x480 with 1 Axes>"
            ],
            "image/png": "[encoded data removed]"
          },
          "metadata": {}
        }
      ]
    },
    {
      "cell_type": "markdown",
      "source": [
        "##Gausian distribution"
      ],
      "metadata": {
        "id": "z4t8nKxLOsaI"
      }
    },
    {
      "cell_type": "markdown",
      "source": [
        "we want to estimate gausian distribution for each feature $x_i$.\n",
        "the Gaussian distribution is given by\n",
        "\n",
        "   $$ p(x ; \\mu,\\sigma ^2) = \\frac{1}{\\sqrt{2 \\pi \\sigma ^2}}\\exp^{ - \\frac{(x - \\mu)^2}{2 \\sigma ^2} }$$\n",
        "\n",
        "   where $\\mu$ is the mean and $\\sigma^2$ controls the variance.\n",
        "   \n",
        "* For each feature $i = 1\\ldots n$, you need to find parameters $\\mu_i$ and $\\sigma_i^2$ that fit the data in the $i$-th dimension $\\{x_i^{(1)}, ..., x_i^{(m)}\\}$ (the $i$-th dimension of each example).\n",
        "\n",
        "You can estimate the parameters, ($\\mu_i$, $\\sigma_i^2$), of the $i$-th\n",
        "feature by using the following equations. To estimate the mean, you will\n",
        "use:\n",
        "\n",
        "$$\\mu_i = \\frac{1}{m} \\sum_{j=1}^m x_i^{(j)}$$\n",
        "\n",
        "and for the variance you will use:\n",
        "$$\\sigma_i^2 = \\frac{1}{m} \\sum_{j=1}^m (x_i^{(j)} - \\mu_i)^2$$"
      ],
      "metadata": {
        "id": "7Pg0D_gRPQzB"
      }
    },
    {
      "cell_type": "code",
      "source": [
        "def estimate_gaussion(X):\n",
        "  m = X.shape[0]\n",
        "  mu = 1/ m * np.sum(X , axis = 0)\n",
        "  var = 1 / m * np.sum((X - mu) ** 2, axis = 0)\n",
        "  return mu, var\n",
        "mu, var = estimate_gaussion(X_train)\n",
        "\n",
        "print(\"Mean of each feature:\", mu)\n",
        "print(\"Variance of each feature:\", var)\n",
        "\n"
      ],
      "metadata": {
        "colab": {
          "base_uri": "https://localhost:8080/"
        },
        "id": "tDTUMpe-Ow3w",
        "outputId": "9baea74a-9c86-4db9-f808-ff6fc698334b"
      },
      "execution_count": 7,
      "outputs": [
        {
          "output_type": "stream",
          "name": "stdout",
          "text": [
            "Mean of each feature: [13.92244969 14.71786285]\n",
            "Variance of each feature: [0.8943801  1.06167853]\n"
          ]
        }
      ]
    }
  ]
}