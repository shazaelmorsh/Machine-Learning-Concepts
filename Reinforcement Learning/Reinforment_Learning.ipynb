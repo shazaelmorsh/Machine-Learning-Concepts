{
 "cells": [
  {
   "cell_type": "markdown",
   "metadata": {},
   "source": [
    "## Where deep learning comes to place"
   ]
  },
  {
   "cell_type": "markdown",
   "metadata": {},
   "source": [
    "<img src=\"QDL.png\" alt=\"image\" width=\"300\"> <img src=\"Improved-QDL-arch.png\" alt=\"image\" width=\"300\">\n",
    "\n",
    "\n",
    "we want to have a *supervised learning model* that takes state and action and outputs the values of these pair\n",
    "by calculates are the values for all actions, we can then choose the best action for this state\n",
    " but how will the model train ? using training set from the bellman equation\n",
    "\n",
    "* agent will take different actions according the q_value or random action (according to epsilon) (replay buffer)\n",
    "* we will calculate bellman equation\n",
    "* we will use this q-value as our training set to calculate q_new (replay method)\n",
    "* repeat"
   ]
  },
  {
   "cell_type": "markdown",
   "metadata": {},
   "source": [
    "## Simple flow-chart\n"
   ]
  },
  {
   "cell_type": "markdown",
   "metadata": {},
   "source": [
    "<img src=\"QDL.png\" alt=\"image\" width=\"300\"> <img src=\"Improved-QDL-arch.png\" alt=\"image\" width=\"300\">\n",
    "\n",
    "\n",
    "we want to have a *supervised learning model* that takes state and action and outputs the values of these pair\n",
    "by calculates are the values for all actions, we can then choose the best action for this state\n",
    " but how will the model train ? using training set from the bellman equation\n",
    "\n",
    "* agent will take different actions according the q_value or random action (according to epsilon) (replay buffer)\n",
    "* we will calculate bellman equation\n",
    "* we will use this q-value as our training set to calculate q_new (replay method)\n",
    "* repeat"
   ]
  },
  {
   "cell_type": "markdown",
   "metadata": {},
   "source": [
    "## Calculating the target q_value\n",
    "\n",
    "does the batch_size = one episode ?\n",
    "does the target q_value reset each episode ?\n"
   ]
  },
  {
   "cell_type": "code",
   "execution_count": 186,
   "metadata": {},
   "outputs": [
    {
     "name": "stdout",
     "output_type": "stream",
     "text": [
      "step number 0, {0: [0, 0], 1: [0, 0], 2: [0, 0]} \n",
      "step number 1, {0: [1.0, 0], 1: [0, 0], 2: [0, 0]} \n",
      "step number 2, {0: [1.0, 0], 1: [0, 2.99], 2: [0, 0]} \n",
      "step number 3, {0: [1.0, 0], 1: [0, 2.99], 2: [5.960100000000001, 0]} \n",
      "step number 4, {0: [1.0, 0], 1: [9.900499, 2.99], 2: [5.960100000000001, 0]} \n",
      "Q-values:\n",
      "State 0: [1.0, 10.900499]\n",
      "State 1: [9.900499, 2.99]\n",
      "State 2: [5.960100000000001, 0]\n"
     ]
    }
   ],
   "source": [
    "#assuming we already have the replay buffer, here is how to calculate the target q_value using the bellman equation\n",
    "#creating the dataset for the model to train on\n",
    "class QLearningAgent:\n",
    "    def __init__(self, num_states, num_actions, gamma=0.99):\n",
    "        self.num_states = num_states\n",
    "        self.num_actions = num_actions\n",
    "        self.gamma = gamma\n",
    "        # Initialize Q-values as a dictionary with zeros\n",
    "        self.Q_values = {state: [0] * num_actions for state in range(num_states)}\n",
    "\n",
    "    def update_q_value(self, state, action, reward, next_state):\n",
    "        max_next_q_value = max(self.Q_values[next_state])\n",
    "        self.Q_values[state][action] = reward + self.gamma * max_next_q_value\n",
    "\n",
    "    def display_q_values(self):\n",
    "        print(\"Q-values:\")\n",
    "        for state, q_values in self.Q_values.items():\n",
    "            print(f\"State {state}: {q_values}\")\n",
    "\n",
    "# Define the environment parameters\n",
    "num_states = 3\n",
    "num_actions = 2\n",
    "\n",
    "# Initialize the Q-learning agent\n",
    "agent = QLearningAgent(num_states, num_actions)\n",
    "\n",
    "# Define a list of experiences (state, action, reward, next_state)\n",
    "#this is the \"replay buffer\"\n",
    "#as if this is 1 episode\n",
    "experiences = [\n",
    "    (0, 0, 1, 1),  # Experience 1\n",
    "    (1, 1, 2, 0),  # Experience 2\n",
    "    (2, 0, 3, 1),  # Experience 3\n",
    "    (1, 0, 4, 2),  # Experience 4\n",
    "    (0, 1, 5, 2),  # Experience 5 (episode termination)\n",
    "]\n",
    "\n",
    "# Update Q-values for each experience\n",
    "for i , experience in enumerate(experiences):\n",
    "    state, action, reward, next_state = experience\n",
    "    print(f\"step number {i}, {agent.Q_values} \")\n",
    "    agent.update_q_value(state, action, reward, next_state)\n",
    "\n",
    "# Display Q-values after all experiences\n",
    "agent.display_q_values()\n"
   ]
  },
  {
   "cell_type": "markdown",
   "metadata": {},
   "source": [
    "Storing Experiences"
   ]
  },
  {
   "cell_type": "markdown",
   "metadata": {},
   "source": [
    "## DQL Model"
   ]
  },
  {
   "cell_type": "code",
   "execution_count": 198,
   "metadata": {},
   "outputs": [
    {
     "name": "stdout",
     "output_type": "stream",
     "text": [
      "Game contains 16 states and 4 actions\n",
      "shape of the qtest (16, 4)\n",
      "Total reward: 0.0\n"
     ]
    }
   ],
   "source": [
    "import numpy as np\n",
    "import gym\n",
    "\n",
    "EPSILON = 0.9\n",
    "\n",
    "class GridWorldEnvironment:\n",
    "    def __init__(self):\n",
    "        self.env = gym.make('FrozenLake-v1')\n",
    "        self.num_states = self.env.observation_space.n\n",
    "        self.state_size = self.env.observation_space.n\n",
    "        self.num_actions = self.env.action_space.n\n",
    "        print(f\"Game contains {self.num_states} states and {self.num_actions} actions\")\n",
    "        self.Q_table = np.zeros((self.num_states, self.num_actions))\n",
    "        print(f\"shape of the qtest {self.Q_table.shape}\")\n",
    "        self.epsilon = EPSILON\n",
    "\n",
    "    def train(self, num_episodes, learning_rate, discount_factor):\n",
    "        if self.epsilon > 0.1:\n",
    "            self.epsilon -= 0.1\n",
    "        for episode in range(num_episodes):\n",
    "            state = self.env.reset()[0]\n",
    "            done = False\n",
    "\n",
    "            while not done:\n",
    "                if np.random.uniform(0, 1) < self.epsilon:\n",
    "                    action = self.env.action_space.sample()  # Explore\n",
    "                else:\n",
    "                    action = np.argmax(self.Q_table[state])  # Exploit\n",
    "\n",
    "                next_state, reward, done, _ , _ = self.env.step(action)\n",
    "\n",
    "                # print(f\"next state {self.env.step(action)}\")\n",
    "                self.Q_table[state][action] =  (\n",
    "                        reward + discount_factor * np.max(self.Q_table[next_state]))\n",
    "\n",
    "                state = next_state\n",
    "\n",
    "    def test(self, max_steps=100):\n",
    "        state = self.env.reset()[0]\n",
    "        total_reward = 0\n",
    "        for _ in range(max_steps):\n",
    "            action = np.argmax(self.Q_table[state])\n",
    "            # print(f\"action taken {action}\")\n",
    "            state, reward, done, _ , _ = self.env.step(action)\n",
    "            total_reward += reward\n",
    "            # self.env.render()\n",
    "            if done:\n",
    "                break\n",
    "        return total_reward\n",
    "\n",
    "def main():\n",
    "    # Hyperparameters\n",
    "    NUM_EPISODES = 1000\n",
    "    LEARNING_RATE = 0.1\n",
    "    DISCOUNT_FACTOR = 0.9\n",
    "\n",
    "    # Create environment\n",
    "    env = GridWorldEnvironment()\n",
    "\n",
    "    # Train the agent\n",
    "    env.train(NUM_EPISODES, LEARNING_RATE, DISCOUNT_FACTOR)\n",
    "\n",
    "    #print final state-value table\n",
    "    # print(env.Q_table)\n",
    "    \n",
    "    # Test the agent\n",
    "    total_reward = env.test()\n",
    "    print(\"Total reward:\", total_reward)\n",
    "\n",
    "if __name__ == \"__main__\":\n",
    "    main()\n"
   ]
  }
 ],
 "metadata": {
  "kernelspec": {
   "display_name": "base",
   "language": "python",
   "name": "python3"
  },
  "language_info": {
   "codemirror_mode": {
    "name": "ipython",
    "version": 3
   },
   "file_extension": ".py",
   "mimetype": "text/x-python",
   "name": "python",
   "nbconvert_exporter": "python",
   "pygments_lexer": "ipython3",
   "version": "3.11.5"
  }
 },
 "nbformat": 4,
 "nbformat_minor": 2
}
